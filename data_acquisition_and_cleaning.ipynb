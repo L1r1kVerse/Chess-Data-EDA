{
 "cells": [
  {
   "cell_type": "code",
   "execution_count": 1,
   "metadata": {},
   "outputs": [],
   "source": [
    "# import necessary libraries\n",
    "import pandas as pd\n",
    "import requests\n",
    "from bs4 import BeautifulSoup\n",
    "import os\n",
    "from urllib.parse import urljoin\n",
    "\n",
    "import chess.pgn\n",
    "import re"
   ]
  },
  {
   "cell_type": "markdown",
   "metadata": {},
   "source": [
    "A link to the whole project including the raw data at dox.abv.bg [link](https://dox.abv.bg/download?id=de3fbe797a#)"
   ]
  },
  {
   "cell_type": "markdown",
   "metadata": {},
   "source": [
    "### Data Acquisition"
   ]
  },
  {
   "cell_type": "markdown",
   "metadata": {},
   "source": [
    "The chess games used for this analysis were acquired from three different sources:\n",
    "* lichess.org - The games were obtained from the lichess open database found at: [link](https://database.lichess.org/). The games in the database are organized in files for each month. They are in the pgn.zst file format which allows a partial(not completely finished) download to be decompressed. This is useful since the original files are quite large - about 30 gigabytes each.  A part of the games from the month of May, 2024 were manually downloaded. After decompression the data is a pgn file (portable game notation)- a standard format for chess games storage.\n",
    "* chess.com - The games were obtained from a collection of games from the weekly tournament called Titled Tuesday where only strong titled players can participate. The collection was created by Chess Nerd. The games are split in files corresponding to each edition of the tournament. The games were downloaded with a script and appended to one big pgn file. Only games from this year(2024) were included. The collection by Chess Nerd can be found at the following [link](https://chessnerd.net/pgn/chesscom/titled-tuesday/).\n",
    "* Top Chess Engine Championship(TCEC). The games were manually downloaded from this webpage [link](https://github.com/TCEC-Chess/tcecgames/releases). The file downloaded is listed in the assets  for the final of season 26 as \"TCEC-all-in-one-compact.zip\". "
   ]
  },
  {
   "cell_type": "markdown",
   "metadata": {},
   "source": [
    "The following functions were used to download the games played on Chess.com and convert them to one big pgn file."
   ]
  },
  {
   "cell_type": "code",
   "execution_count": 2,
   "metadata": {},
   "outputs": [],
   "source": [
    "def download_specific_files_from_url(url, download_folder, prefix = \"24\"):\n",
    "    # Make the request to the URL\n",
    "    response = requests.get(url)\n",
    "    # Check that the request was successful\n",
    "    response.raise_for_status()\n",
    "\n",
    "    # Parse the HTML\n",
    "    soup = BeautifulSoup(response.text, \"html.parser\")\n",
    "\n",
    "    # Find all links that end with \".pgn\" and start with the given prefix (the prefix is the year)\n",
    "    links = soup.find_all('a')\n",
    "    pgn_links = [link[\"href\"] for link in links if link[\"href\"].endswith(\".pgn\") and os.path.basename(link[\"href\"]).startswith(prefix)]\n",
    "\n",
    "    # Ensure download folder exists\n",
    "    current_directory = os.getcwd()\n",
    "    subdirectory_path = os.path.join(current_directory, download_folder)\n",
    "    if not os.path.exists(subdirectory_path):\n",
    "        os.makedirs(subdirectory_path)\n",
    "\n",
    "    # Download each pgn file that matches the prefix\n",
    "    for pgn_link in pgn_links:\n",
    "        # Construct the full URL \n",
    "        file_url = urljoin(url, pgn_link)\n",
    "        file_name = os.path.join(subdirectory_path, os.path.basename(pgn_link))\n",
    "        print(f\"Downloading {file_url} to {file_name}\")\n",
    "        response = requests.get(file_url)\n",
    "        # Check for successful download\n",
    "        response.raise_for_status()  \n",
    "        with open(file_name, 'wb') as file:\n",
    "            file.write(response.content)\n",
    "\n",
    "    print(\"Download Complete\")"
   ]
  },
  {
   "cell_type": "code",
   "execution_count": 3,
   "metadata": {},
   "outputs": [],
   "source": [
    "def merge_pgn_files(source_folder, output_file):\n",
    "    pgn_files = [file for file in os.listdir(source_folder) if file.endswith(\"pgn\")]\n",
    "\n",
    "    with open(output_file, \"w\") as outfile:\n",
    "        for pgn_file in pgn_files:\n",
    "            file_path = os.path.join(source_folder, pgn_file)\n",
    "            with open(file_path, \"r\") as infile:\n",
    "                outfile.write(infile.read())\n",
    "                # Add a blank line between games\n",
    "                outfile.write(\"\\n\\n\")"
   ]
  },
  {
   "cell_type": "code",
   "execution_count": 4,
   "metadata": {},
   "outputs": [],
   "source": [
    "# Download chess.com games\n",
    "url = \"https://chessnerd.net/pgn/chesscom/titled-tuesday/\"\n",
    "download_folder = \"downloaded_chesscom_pgns\"\n",
    "#download_specific_files_from_url(url, download_folder, prefix = \"24\")"
   ]
  },
  {
   "cell_type": "code",
   "execution_count": 5,
   "metadata": {},
   "outputs": [],
   "source": [
    "output_file = \"raw_data/merged_chesscom_games.pgn\"\n",
    "# merge_pgn_files(download_folder, output_file)"
   ]
  },
  {
   "cell_type": "markdown",
   "metadata": {},
   "source": [
    "### Data Conversion"
   ]
  },
  {
   "cell_type": "markdown",
   "metadata": {},
   "source": [
    "The following function was used the convert the raw pgn files into csv files:"
   ]
  },
  {
   "cell_type": "code",
   "execution_count": 6,
   "metadata": {},
   "outputs": [],
   "source": [
    "def convert_pgn_to_csv(\n",
    "    pgn_file_path,\n",
    "    output_file_path,\n",
    "    number_of_games = None, \n",
    "    chunk_size = 100, \n",
    "    print_progress = False\n",
    "    ):\n",
    "    with open(pgn_file_path) as source_file:\n",
    "        game_counter = 0\n",
    "        games = []\n",
    "        while True:\n",
    "            game = chess.pgn.read_game(source_file)\n",
    "            if game is None:\n",
    "                break\n",
    "            game_info = {\n",
    "                \"event\": game.headers.get(\"Event\"),\n",
    "                \"site\": game.headers.get(\"Site\"),\n",
    "                \"date\": game.headers.get(\"Date\"),\n",
    "                \"round\": game.headers.get(\"Round\"),\n",
    "                \"white\": game.headers.get(\"White\"),\n",
    "                \"black\": game.headers.get(\"Black\"),\n",
    "                \"result\": game.headers.get(\"Result\"),\n",
    "                \"utc_date\": game.headers.get(\"UTCDate\"),\n",
    "                \"utc_time\": game.headers.get(\"UTCTime\"),\n",
    "                \"white_elo\": game.headers.get(\"WhiteElo\"),\n",
    "                \"black_elo\": game.headers.get(\"BlackElo\"),\n",
    "                \"eco\": game.headers.get(\"ECO\"),\n",
    "                \"opening\": game.headers.get(\"Opening\"),\n",
    "                \"time_control\": game.headers.get(\"TimeControl\"),\n",
    "                \"termination\": game.headers.get(\"Termination\"),\n",
    "                \"moves\": game.board().variation_san(game.mainline_moves())\n",
    "            }\n",
    "            games.append(game_info)\n",
    "            game_counter += 1\n",
    "\n",
    "            if game_counter % chunk_size == 0:\n",
    "                if(print_progress):\n",
    "                    print(f\"Processed {game_counter} games\")\n",
    "                df = pd.DataFrame(games)\n",
    "                if game_counter == chunk_size:\n",
    "                    df.to_csv(output_file_path, mode = \"w\", header = True, index = False)\n",
    "                else:\n",
    "                    df.to_csv(output_file_path, mode = \"a\", header = False, index = False)\n",
    "                games = []\n",
    "            \n",
    "            if number_of_games is not None and game_counter >= number_of_games:\n",
    "                break\n",
    "        # Write any remainig games\n",
    "        if games:\n",
    "            df = pd.DataFrame(games)\n",
    "            df.to_csv(output_file_path, mode = \"a\", header = False, index = False)           \n",
    "    \n",
    "    print(f\"Processed a total of {game_counter} games. CSV file saved to {output_file_path}\")    "
   ]
  },
  {
   "cell_type": "code",
   "execution_count": 7,
   "metadata": {},
   "outputs": [],
   "source": [
    "# Convert lichess games to csv\n",
    "number_of_games = 205000\n",
    "pgn_file_path = \"raw_data/lichess_05_2024.pgn\"\n",
    "output_file_path = \"data/lichess_05_2024.csv\"\n",
    "# convert_pgn_to_csv(pgn_file_path, output_file_path, number_of_games, chunk_size = 100, print_progress = True)"
   ]
  },
  {
   "cell_type": "markdown",
   "metadata": {},
   "source": [
    "There is a slight issue with reproducibility in relation to the lichess games. To reproduce the same results one needs to make sure at least 205 000 games have been partially downloaded as pgn. For reference the raw data of the partial download is 1.22 gigabytes on my machine."
   ]
  },
  {
   "cell_type": "code",
   "execution_count": 8,
   "metadata": {},
   "outputs": [],
   "source": [
    "# Convert chess.com Titled Tuesday 2024 games to csv\n",
    "pgn_file_path = \"raw_data/merged_chesscom_games.pgn\"\n",
    "output_file_path = \"data/chesscom_2024.csv\"\n",
    "# convert_pgn_to_csv(pgn_file_path, output_file_path, chunk_size = 100, print_progress = True)"
   ]
  },
  {
   "cell_type": "code",
   "execution_count": 9,
   "metadata": {},
   "outputs": [],
   "source": [
    "# Convert engine games to csv\n",
    "pgn_file_path = \"raw_data/TCEC-everything.pgn\"\n",
    "output_file_path = \"data/engine_games.csv\"\n",
    "# convert_pgn_to_csv(pgn_file_path, output_file_path, chunk_size = 100, print_progress = True)"
   ]
  },
  {
   "cell_type": "markdown",
   "metadata": {},
   "source": [
    "### Data Cleaning and Exploration"
   ]
  },
  {
   "cell_type": "markdown",
   "metadata": {},
   "source": [
    "#### Cleaning lichess games data:"
   ]
  },
  {
   "cell_type": "code",
   "execution_count": 10,
   "metadata": {},
   "outputs": [],
   "source": [
    "lichess_data = pd.read_csv(\"data/lichess_05_2024.csv\")"
   ]
  },
  {
   "cell_type": "code",
   "execution_count": 11,
   "metadata": {},
   "outputs": [
    {
     "data": {
      "text/plain": [
       "25.024539947509766"
      ]
     },
     "execution_count": 11,
     "metadata": {},
     "output_type": "execute_result"
    }
   ],
   "source": [
    "lichess_data.memory_usage().sum()/(1024 * 1024)"
   ]
  },
  {
   "cell_type": "code",
   "execution_count": 12,
   "metadata": {},
   "outputs": [
    {
     "data": {
      "text/plain": [
       "(205000, 16)"
      ]
     },
     "execution_count": 12,
     "metadata": {},
     "output_type": "execute_result"
    }
   ],
   "source": [
    "lichess_data.shape"
   ]
  },
  {
   "cell_type": "code",
   "execution_count": 13,
   "metadata": {},
   "outputs": [
    {
     "name": "stdout",
     "output_type": "stream",
     "text": [
      "<class 'pandas.core.frame.DataFrame'>\n",
      "RangeIndex: 205000 entries, 0 to 204999\n",
      "Data columns (total 16 columns):\n",
      " #   Column        Non-Null Count   Dtype \n",
      "---  ------        --------------   ----- \n",
      " 0   event         205000 non-null  object\n",
      " 1   site          205000 non-null  object\n",
      " 2   date          205000 non-null  object\n",
      " 3   round         205000 non-null  object\n",
      " 4   white         205000 non-null  object\n",
      " 5   black         205000 non-null  object\n",
      " 6   result        205000 non-null  object\n",
      " 7   utc_date      205000 non-null  object\n",
      " 8   Utc_time      205000 non-null  object\n",
      " 9   whitee_elo    205000 non-null  int64 \n",
      " 10  black_elo     205000 non-null  int64 \n",
      " 11  eco           205000 non-null  object\n",
      " 12  opening       205000 non-null  object\n",
      " 13  time_control  205000 non-null  object\n",
      " 14  termination   205000 non-null  object\n",
      " 15  moves         204522 non-null  object\n",
      "dtypes: int64(2), object(14)\n",
      "memory usage: 25.0+ MB\n"
     ]
    }
   ],
   "source": [
    "lichess_data.info()"
   ]
  },
  {
   "cell_type": "markdown",
   "metadata": {},
   "source": [
    "Remove the columns I will not be using:"
   ]
  },
  {
   "cell_type": "code",
   "execution_count": 14,
   "metadata": {},
   "outputs": [],
   "source": [
    "lichess_data_clean = lichess_data.drop(columns = [\"event\", \"site\", \"round\", \"utc_date\", \"Utc_time\"])"
   ]
  },
  {
   "cell_type": "markdown",
   "metadata": {},
   "source": [
    "Convert date to datetime:"
   ]
  },
  {
   "cell_type": "code",
   "execution_count": 15,
   "metadata": {},
   "outputs": [],
   "source": [
    "lichess_data_clean[\"date\"] = pd.to_datetime(lichess_data_clean[\"date\"])"
   ]
  },
  {
   "cell_type": "code",
   "execution_count": 16,
   "metadata": {},
   "outputs": [
    {
     "data": {
      "text/plain": [
       "date            datetime64[ns]\n",
       "white                   object\n",
       "black                   object\n",
       "result                  object\n",
       "whitee_elo               int64\n",
       "black_elo                int64\n",
       "eco                     object\n",
       "opening                 object\n",
       "time_control            object\n",
       "termination             object\n",
       "moves                   object\n",
       "dtype: object"
      ]
     },
     "execution_count": 16,
     "metadata": {},
     "output_type": "execute_result"
    }
   ],
   "source": [
    "lichess_data_clean.dtypes"
   ]
  },
  {
   "cell_type": "code",
   "execution_count": 17,
   "metadata": {},
   "outputs": [],
   "source": [
    "lichess_data_clean = lichess_data_clean.drop_duplicates()"
   ]
  },
  {
   "cell_type": "code",
   "execution_count": 18,
   "metadata": {},
   "outputs": [
    {
     "data": {
      "text/plain": [
       "(205000, 11)"
      ]
     },
     "execution_count": 18,
     "metadata": {},
     "output_type": "execute_result"
    }
   ],
   "source": [
    "lichess_data_clean.shape"
   ]
  },
  {
   "cell_type": "code",
   "execution_count": 19,
   "metadata": {},
   "outputs": [],
   "source": [
    "lichess_data_clean = lichess_data_clean.dropna(subset = [\"moves\"])"
   ]
  },
  {
   "cell_type": "code",
   "execution_count": 20,
   "metadata": {},
   "outputs": [
    {
     "data": {
      "text/plain": [
       "(204522, 11)"
      ]
     },
     "execution_count": 20,
     "metadata": {},
     "output_type": "execute_result"
    }
   ],
   "source": [
    "lichess_data_clean.shape"
   ]
  },
  {
   "cell_type": "markdown",
   "metadata": {},
   "source": [
    "Fix my typos:"
   ]
  },
  {
   "cell_type": "code",
   "execution_count": 21,
   "metadata": {},
   "outputs": [],
   "source": [
    "lichess_data_clean = lichess_data_clean.rename(columns = {'whitee_elo': 'white_elo'})"
   ]
  },
  {
   "cell_type": "code",
   "execution_count": 22,
   "metadata": {},
   "outputs": [
    {
     "data": {
      "text/html": [
       "<div>\n",
       "<style scoped>\n",
       "    .dataframe tbody tr th:only-of-type {\n",
       "        vertical-align: middle;\n",
       "    }\n",
       "\n",
       "    .dataframe tbody tr th {\n",
       "        vertical-align: top;\n",
       "    }\n",
       "\n",
       "    .dataframe thead th {\n",
       "        text-align: right;\n",
       "    }\n",
       "</style>\n",
       "<table border=\"1\" class=\"dataframe\">\n",
       "  <thead>\n",
       "    <tr style=\"text-align: right;\">\n",
       "      <th></th>\n",
       "      <th>date</th>\n",
       "      <th>white</th>\n",
       "      <th>black</th>\n",
       "      <th>result</th>\n",
       "      <th>white_elo</th>\n",
       "      <th>black_elo</th>\n",
       "      <th>eco</th>\n",
       "      <th>opening</th>\n",
       "      <th>time_control</th>\n",
       "      <th>termination</th>\n",
       "      <th>moves</th>\n",
       "    </tr>\n",
       "  </thead>\n",
       "  <tbody>\n",
       "    <tr>\n",
       "      <th>0</th>\n",
       "      <td>2024-05-01</td>\n",
       "      <td>julio_arias2</td>\n",
       "      <td>Nanaldopark</td>\n",
       "      <td>0-1</td>\n",
       "      <td>1309</td>\n",
       "      <td>1364</td>\n",
       "      <td>C40</td>\n",
       "      <td>King's Pawn Game: McConnell Defense</td>\n",
       "      <td>600+0</td>\n",
       "      <td>Normal</td>\n",
       "      <td>1. e4 e5 2. Nf3 Qf6 3. Bc4 Bc5 4. O-O d6 5. Nc...</td>\n",
       "    </tr>\n",
       "    <tr>\n",
       "      <th>1</th>\n",
       "      <td>2024-05-01</td>\n",
       "      <td>tbecalli</td>\n",
       "      <td>Adriano_BSB</td>\n",
       "      <td>0-1</td>\n",
       "      <td>1568</td>\n",
       "      <td>1904</td>\n",
       "      <td>B27</td>\n",
       "      <td>Sicilian Defense: Hyperaccelerated Dragon</td>\n",
       "      <td>300+0</td>\n",
       "      <td>Normal</td>\n",
       "      <td>1. e4 c5 2. Nf3 g6 3. Bc4 Bg7 4. Nc3 e6 5. O-O...</td>\n",
       "    </tr>\n",
       "    <tr>\n",
       "      <th>2</th>\n",
       "      <td>2024-05-01</td>\n",
       "      <td>Joao_Almeida2005</td>\n",
       "      <td>Kauani_Plnr</td>\n",
       "      <td>1-0</td>\n",
       "      <td>1918</td>\n",
       "      <td>1655</td>\n",
       "      <td>B00</td>\n",
       "      <td>King's Pawn Game</td>\n",
       "      <td>300+0</td>\n",
       "      <td>Time forfeit</td>\n",
       "      <td>1. e4</td>\n",
       "    </tr>\n",
       "    <tr>\n",
       "      <th>5</th>\n",
       "      <td>2024-05-01</td>\n",
       "      <td>OLIVEIRA13</td>\n",
       "      <td>jckawagoe</td>\n",
       "      <td>0-1</td>\n",
       "      <td>1903</td>\n",
       "      <td>2147</td>\n",
       "      <td>C54</td>\n",
       "      <td>Italian Game: Classical Variation, Giuoco Pian...</td>\n",
       "      <td>300+0</td>\n",
       "      <td>Normal</td>\n",
       "      <td>1. e4 e5 2. Nf3 Nc6 3. Bc4 Nf6 4. d3 Bc5 5. c3...</td>\n",
       "    </tr>\n",
       "    <tr>\n",
       "      <th>6</th>\n",
       "      <td>2024-05-01</td>\n",
       "      <td>enrique191060</td>\n",
       "      <td>electronicmoon</td>\n",
       "      <td>0-1</td>\n",
       "      <td>1842</td>\n",
       "      <td>1589</td>\n",
       "      <td>B10</td>\n",
       "      <td>Caro-Kann Defense</td>\n",
       "      <td>1800+0</td>\n",
       "      <td>Normal</td>\n",
       "      <td>1. e4 c6 2. c3 d5 3. e5 Bf5 4. d4 e6 5. Nf3 c5...</td>\n",
       "    </tr>\n",
       "    <tr>\n",
       "      <th>...</th>\n",
       "      <td>...</td>\n",
       "      <td>...</td>\n",
       "      <td>...</td>\n",
       "      <td>...</td>\n",
       "      <td>...</td>\n",
       "      <td>...</td>\n",
       "      <td>...</td>\n",
       "      <td>...</td>\n",
       "      <td>...</td>\n",
       "      <td>...</td>\n",
       "      <td>...</td>\n",
       "    </tr>\n",
       "    <tr>\n",
       "      <th>204995</th>\n",
       "      <td>2024-05-01</td>\n",
       "      <td>iLorenz</td>\n",
       "      <td>ILUVLIVYYY</td>\n",
       "      <td>1-0</td>\n",
       "      <td>1388</td>\n",
       "      <td>1335</td>\n",
       "      <td>B06</td>\n",
       "      <td>Modern Defense</td>\n",
       "      <td>180+0</td>\n",
       "      <td>Time forfeit</td>\n",
       "      <td>1. e4 g6 2. d4 Bg7 3. Nf3 d6 4. Be3 Nc6 5. Bb5...</td>\n",
       "    </tr>\n",
       "    <tr>\n",
       "      <th>204996</th>\n",
       "      <td>2024-05-01</td>\n",
       "      <td>hulivar</td>\n",
       "      <td>Andre_uk</td>\n",
       "      <td>1-0</td>\n",
       "      <td>1291</td>\n",
       "      <td>1234</td>\n",
       "      <td>B06</td>\n",
       "      <td>Modern Defense</td>\n",
       "      <td>180+0</td>\n",
       "      <td>Time forfeit</td>\n",
       "      <td>1. e4 g6 2. Nf3 Bg7 3. d4 e6 4. Bd3 Ne7 5. O-O...</td>\n",
       "    </tr>\n",
       "    <tr>\n",
       "      <th>204997</th>\n",
       "      <td>2024-05-01</td>\n",
       "      <td>pradyumna_1</td>\n",
       "      <td>aprasher</td>\n",
       "      <td>0-1</td>\n",
       "      <td>1135</td>\n",
       "      <td>1143</td>\n",
       "      <td>C50</td>\n",
       "      <td>Italian Game: Giuoco Pianissimo, Normal</td>\n",
       "      <td>180+0</td>\n",
       "      <td>Normal</td>\n",
       "      <td>1. e4 e5 2. Bc4 Nc6 3. d3 Nf6 4. Nf3 Bc5 5. Ng...</td>\n",
       "    </tr>\n",
       "    <tr>\n",
       "      <th>204998</th>\n",
       "      <td>2024-05-01</td>\n",
       "      <td>CLADY</td>\n",
       "      <td>Mazinger3000</td>\n",
       "      <td>1-0</td>\n",
       "      <td>1860</td>\n",
       "      <td>1884</td>\n",
       "      <td>C30</td>\n",
       "      <td>King's Gambit Declined: Queen's Knight Defense</td>\n",
       "      <td>180+0</td>\n",
       "      <td>Time forfeit</td>\n",
       "      <td>1. e4 Nc6 2. f4 e5 3. fxe5 Nxe5 4. Nf3 Ng6 5. ...</td>\n",
       "    </tr>\n",
       "    <tr>\n",
       "      <th>204999</th>\n",
       "      <td>2024-05-01</td>\n",
       "      <td>bharathvjy</td>\n",
       "      <td>Leibnitzer</td>\n",
       "      <td>0-1</td>\n",
       "      <td>1808</td>\n",
       "      <td>1834</td>\n",
       "      <td>B08</td>\n",
       "      <td>Pirc Defense: Classical Variation</td>\n",
       "      <td>180+0</td>\n",
       "      <td>Normal</td>\n",
       "      <td>1. e4 d6 2. Nf3 Nf6 3. d4 g6 4. Nc3 Bg7 5. Bd3...</td>\n",
       "    </tr>\n",
       "  </tbody>\n",
       "</table>\n",
       "<p>204522 rows × 11 columns</p>\n",
       "</div>"
      ],
      "text/plain": [
       "             date             white           black result  white_elo  \\\n",
       "0      2024-05-01      julio_arias2     Nanaldopark    0-1       1309   \n",
       "1      2024-05-01          tbecalli     Adriano_BSB    0-1       1568   \n",
       "2      2024-05-01  Joao_Almeida2005     Kauani_Plnr    1-0       1918   \n",
       "5      2024-05-01        OLIVEIRA13       jckawagoe    0-1       1903   \n",
       "6      2024-05-01     enrique191060  electronicmoon    0-1       1842   \n",
       "...           ...               ...             ...    ...        ...   \n",
       "204995 2024-05-01           iLorenz      ILUVLIVYYY    1-0       1388   \n",
       "204996 2024-05-01           hulivar        Andre_uk    1-0       1291   \n",
       "204997 2024-05-01       pradyumna_1        aprasher    0-1       1135   \n",
       "204998 2024-05-01             CLADY    Mazinger3000    1-0       1860   \n",
       "204999 2024-05-01        bharathvjy      Leibnitzer    0-1       1808   \n",
       "\n",
       "        black_elo  eco                                            opening  \\\n",
       "0            1364  C40                King's Pawn Game: McConnell Defense   \n",
       "1            1904  B27          Sicilian Defense: Hyperaccelerated Dragon   \n",
       "2            1655  B00                                   King's Pawn Game   \n",
       "5            2147  C54  Italian Game: Classical Variation, Giuoco Pian...   \n",
       "6            1589  B10                                  Caro-Kann Defense   \n",
       "...           ...  ...                                                ...   \n",
       "204995       1335  B06                                     Modern Defense   \n",
       "204996       1234  B06                                     Modern Defense   \n",
       "204997       1143  C50            Italian Game: Giuoco Pianissimo, Normal   \n",
       "204998       1884  C30     King's Gambit Declined: Queen's Knight Defense   \n",
       "204999       1834  B08                  Pirc Defense: Classical Variation   \n",
       "\n",
       "       time_control   termination  \\\n",
       "0             600+0        Normal   \n",
       "1             300+0        Normal   \n",
       "2             300+0  Time forfeit   \n",
       "5             300+0        Normal   \n",
       "6            1800+0        Normal   \n",
       "...             ...           ...   \n",
       "204995        180+0  Time forfeit   \n",
       "204996        180+0  Time forfeit   \n",
       "204997        180+0        Normal   \n",
       "204998        180+0  Time forfeit   \n",
       "204999        180+0        Normal   \n",
       "\n",
       "                                                    moves  \n",
       "0       1. e4 e5 2. Nf3 Qf6 3. Bc4 Bc5 4. O-O d6 5. Nc...  \n",
       "1       1. e4 c5 2. Nf3 g6 3. Bc4 Bg7 4. Nc3 e6 5. O-O...  \n",
       "2                                                   1. e4  \n",
       "5       1. e4 e5 2. Nf3 Nc6 3. Bc4 Nf6 4. d3 Bc5 5. c3...  \n",
       "6       1. e4 c6 2. c3 d5 3. e5 Bf5 4. d4 e6 5. Nf3 c5...  \n",
       "...                                                   ...  \n",
       "204995  1. e4 g6 2. d4 Bg7 3. Nf3 d6 4. Be3 Nc6 5. Bb5...  \n",
       "204996  1. e4 g6 2. Nf3 Bg7 3. d4 e6 4. Bd3 Ne7 5. O-O...  \n",
       "204997  1. e4 e5 2. Bc4 Nc6 3. d3 Nf6 4. Nf3 Bc5 5. Ng...  \n",
       "204998  1. e4 Nc6 2. f4 e5 3. fxe5 Nxe5 4. Nf3 Ng6 5. ...  \n",
       "204999  1. e4 d6 2. Nf3 Nf6 3. d4 g6 4. Nc3 Bg7 5. Bd3...  \n",
       "\n",
       "[204522 rows x 11 columns]"
      ]
     },
     "execution_count": 22,
     "metadata": {},
     "output_type": "execute_result"
    }
   ],
   "source": [
    "lichess_data_clean"
   ]
  },
  {
   "cell_type": "markdown",
   "metadata": {},
   "source": [
    "Add a column \"rating_difference\" I will be using in the analysis:"
   ]
  },
  {
   "cell_type": "code",
   "execution_count": 23,
   "metadata": {},
   "outputs": [],
   "source": [
    "lichess_data_clean[\"rating_difference\"] = lichess_data_clean[\"white_elo\"] -  lichess_data_clean[\"black_elo\"]"
   ]
  },
  {
   "cell_type": "code",
   "execution_count": 24,
   "metadata": {},
   "outputs": [
    {
     "data": {
      "text/html": [
       "<div>\n",
       "<style scoped>\n",
       "    .dataframe tbody tr th:only-of-type {\n",
       "        vertical-align: middle;\n",
       "    }\n",
       "\n",
       "    .dataframe tbody tr th {\n",
       "        vertical-align: top;\n",
       "    }\n",
       "\n",
       "    .dataframe thead th {\n",
       "        text-align: right;\n",
       "    }\n",
       "</style>\n",
       "<table border=\"1\" class=\"dataframe\">\n",
       "  <thead>\n",
       "    <tr style=\"text-align: right;\">\n",
       "      <th></th>\n",
       "      <th>date</th>\n",
       "      <th>white</th>\n",
       "      <th>black</th>\n",
       "      <th>result</th>\n",
       "      <th>white_elo</th>\n",
       "      <th>black_elo</th>\n",
       "      <th>eco</th>\n",
       "      <th>opening</th>\n",
       "      <th>time_control</th>\n",
       "      <th>termination</th>\n",
       "      <th>moves</th>\n",
       "      <th>rating_difference</th>\n",
       "    </tr>\n",
       "  </thead>\n",
       "  <tbody>\n",
       "    <tr>\n",
       "      <th>0</th>\n",
       "      <td>2024-05-01</td>\n",
       "      <td>julio_arias2</td>\n",
       "      <td>Nanaldopark</td>\n",
       "      <td>0-1</td>\n",
       "      <td>1309</td>\n",
       "      <td>1364</td>\n",
       "      <td>C40</td>\n",
       "      <td>King's Pawn Game: McConnell Defense</td>\n",
       "      <td>600+0</td>\n",
       "      <td>Normal</td>\n",
       "      <td>1. e4 e5 2. Nf3 Qf6 3. Bc4 Bc5 4. O-O d6 5. Nc...</td>\n",
       "      <td>-55</td>\n",
       "    </tr>\n",
       "    <tr>\n",
       "      <th>1</th>\n",
       "      <td>2024-05-01</td>\n",
       "      <td>tbecalli</td>\n",
       "      <td>Adriano_BSB</td>\n",
       "      <td>0-1</td>\n",
       "      <td>1568</td>\n",
       "      <td>1904</td>\n",
       "      <td>B27</td>\n",
       "      <td>Sicilian Defense: Hyperaccelerated Dragon</td>\n",
       "      <td>300+0</td>\n",
       "      <td>Normal</td>\n",
       "      <td>1. e4 c5 2. Nf3 g6 3. Bc4 Bg7 4. Nc3 e6 5. O-O...</td>\n",
       "      <td>-336</td>\n",
       "    </tr>\n",
       "    <tr>\n",
       "      <th>2</th>\n",
       "      <td>2024-05-01</td>\n",
       "      <td>Joao_Almeida2005</td>\n",
       "      <td>Kauani_Plnr</td>\n",
       "      <td>1-0</td>\n",
       "      <td>1918</td>\n",
       "      <td>1655</td>\n",
       "      <td>B00</td>\n",
       "      <td>King's Pawn Game</td>\n",
       "      <td>300+0</td>\n",
       "      <td>Time forfeit</td>\n",
       "      <td>1. e4</td>\n",
       "      <td>263</td>\n",
       "    </tr>\n",
       "    <tr>\n",
       "      <th>5</th>\n",
       "      <td>2024-05-01</td>\n",
       "      <td>OLIVEIRA13</td>\n",
       "      <td>jckawagoe</td>\n",
       "      <td>0-1</td>\n",
       "      <td>1903</td>\n",
       "      <td>2147</td>\n",
       "      <td>C54</td>\n",
       "      <td>Italian Game: Classical Variation, Giuoco Pian...</td>\n",
       "      <td>300+0</td>\n",
       "      <td>Normal</td>\n",
       "      <td>1. e4 e5 2. Nf3 Nc6 3. Bc4 Nf6 4. d3 Bc5 5. c3...</td>\n",
       "      <td>-244</td>\n",
       "    </tr>\n",
       "    <tr>\n",
       "      <th>6</th>\n",
       "      <td>2024-05-01</td>\n",
       "      <td>enrique191060</td>\n",
       "      <td>electronicmoon</td>\n",
       "      <td>0-1</td>\n",
       "      <td>1842</td>\n",
       "      <td>1589</td>\n",
       "      <td>B10</td>\n",
       "      <td>Caro-Kann Defense</td>\n",
       "      <td>1800+0</td>\n",
       "      <td>Normal</td>\n",
       "      <td>1. e4 c6 2. c3 d5 3. e5 Bf5 4. d4 e6 5. Nf3 c5...</td>\n",
       "      <td>253</td>\n",
       "    </tr>\n",
       "    <tr>\n",
       "      <th>...</th>\n",
       "      <td>...</td>\n",
       "      <td>...</td>\n",
       "      <td>...</td>\n",
       "      <td>...</td>\n",
       "      <td>...</td>\n",
       "      <td>...</td>\n",
       "      <td>...</td>\n",
       "      <td>...</td>\n",
       "      <td>...</td>\n",
       "      <td>...</td>\n",
       "      <td>...</td>\n",
       "      <td>...</td>\n",
       "    </tr>\n",
       "    <tr>\n",
       "      <th>204995</th>\n",
       "      <td>2024-05-01</td>\n",
       "      <td>iLorenz</td>\n",
       "      <td>ILUVLIVYYY</td>\n",
       "      <td>1-0</td>\n",
       "      <td>1388</td>\n",
       "      <td>1335</td>\n",
       "      <td>B06</td>\n",
       "      <td>Modern Defense</td>\n",
       "      <td>180+0</td>\n",
       "      <td>Time forfeit</td>\n",
       "      <td>1. e4 g6 2. d4 Bg7 3. Nf3 d6 4. Be3 Nc6 5. Bb5...</td>\n",
       "      <td>53</td>\n",
       "    </tr>\n",
       "    <tr>\n",
       "      <th>204996</th>\n",
       "      <td>2024-05-01</td>\n",
       "      <td>hulivar</td>\n",
       "      <td>Andre_uk</td>\n",
       "      <td>1-0</td>\n",
       "      <td>1291</td>\n",
       "      <td>1234</td>\n",
       "      <td>B06</td>\n",
       "      <td>Modern Defense</td>\n",
       "      <td>180+0</td>\n",
       "      <td>Time forfeit</td>\n",
       "      <td>1. e4 g6 2. Nf3 Bg7 3. d4 e6 4. Bd3 Ne7 5. O-O...</td>\n",
       "      <td>57</td>\n",
       "    </tr>\n",
       "    <tr>\n",
       "      <th>204997</th>\n",
       "      <td>2024-05-01</td>\n",
       "      <td>pradyumna_1</td>\n",
       "      <td>aprasher</td>\n",
       "      <td>0-1</td>\n",
       "      <td>1135</td>\n",
       "      <td>1143</td>\n",
       "      <td>C50</td>\n",
       "      <td>Italian Game: Giuoco Pianissimo, Normal</td>\n",
       "      <td>180+0</td>\n",
       "      <td>Normal</td>\n",
       "      <td>1. e4 e5 2. Bc4 Nc6 3. d3 Nf6 4. Nf3 Bc5 5. Ng...</td>\n",
       "      <td>-8</td>\n",
       "    </tr>\n",
       "    <tr>\n",
       "      <th>204998</th>\n",
       "      <td>2024-05-01</td>\n",
       "      <td>CLADY</td>\n",
       "      <td>Mazinger3000</td>\n",
       "      <td>1-0</td>\n",
       "      <td>1860</td>\n",
       "      <td>1884</td>\n",
       "      <td>C30</td>\n",
       "      <td>King's Gambit Declined: Queen's Knight Defense</td>\n",
       "      <td>180+0</td>\n",
       "      <td>Time forfeit</td>\n",
       "      <td>1. e4 Nc6 2. f4 e5 3. fxe5 Nxe5 4. Nf3 Ng6 5. ...</td>\n",
       "      <td>-24</td>\n",
       "    </tr>\n",
       "    <tr>\n",
       "      <th>204999</th>\n",
       "      <td>2024-05-01</td>\n",
       "      <td>bharathvjy</td>\n",
       "      <td>Leibnitzer</td>\n",
       "      <td>0-1</td>\n",
       "      <td>1808</td>\n",
       "      <td>1834</td>\n",
       "      <td>B08</td>\n",
       "      <td>Pirc Defense: Classical Variation</td>\n",
       "      <td>180+0</td>\n",
       "      <td>Normal</td>\n",
       "      <td>1. e4 d6 2. Nf3 Nf6 3. d4 g6 4. Nc3 Bg7 5. Bd3...</td>\n",
       "      <td>-26</td>\n",
       "    </tr>\n",
       "  </tbody>\n",
       "</table>\n",
       "<p>204522 rows × 12 columns</p>\n",
       "</div>"
      ],
      "text/plain": [
       "             date             white           black result  white_elo  \\\n",
       "0      2024-05-01      julio_arias2     Nanaldopark    0-1       1309   \n",
       "1      2024-05-01          tbecalli     Adriano_BSB    0-1       1568   \n",
       "2      2024-05-01  Joao_Almeida2005     Kauani_Plnr    1-0       1918   \n",
       "5      2024-05-01        OLIVEIRA13       jckawagoe    0-1       1903   \n",
       "6      2024-05-01     enrique191060  electronicmoon    0-1       1842   \n",
       "...           ...               ...             ...    ...        ...   \n",
       "204995 2024-05-01           iLorenz      ILUVLIVYYY    1-0       1388   \n",
       "204996 2024-05-01           hulivar        Andre_uk    1-0       1291   \n",
       "204997 2024-05-01       pradyumna_1        aprasher    0-1       1135   \n",
       "204998 2024-05-01             CLADY    Mazinger3000    1-0       1860   \n",
       "204999 2024-05-01        bharathvjy      Leibnitzer    0-1       1808   \n",
       "\n",
       "        black_elo  eco                                            opening  \\\n",
       "0            1364  C40                King's Pawn Game: McConnell Defense   \n",
       "1            1904  B27          Sicilian Defense: Hyperaccelerated Dragon   \n",
       "2            1655  B00                                   King's Pawn Game   \n",
       "5            2147  C54  Italian Game: Classical Variation, Giuoco Pian...   \n",
       "6            1589  B10                                  Caro-Kann Defense   \n",
       "...           ...  ...                                                ...   \n",
       "204995       1335  B06                                     Modern Defense   \n",
       "204996       1234  B06                                     Modern Defense   \n",
       "204997       1143  C50            Italian Game: Giuoco Pianissimo, Normal   \n",
       "204998       1884  C30     King's Gambit Declined: Queen's Knight Defense   \n",
       "204999       1834  B08                  Pirc Defense: Classical Variation   \n",
       "\n",
       "       time_control   termination  \\\n",
       "0             600+0        Normal   \n",
       "1             300+0        Normal   \n",
       "2             300+0  Time forfeit   \n",
       "5             300+0        Normal   \n",
       "6            1800+0        Normal   \n",
       "...             ...           ...   \n",
       "204995        180+0  Time forfeit   \n",
       "204996        180+0  Time forfeit   \n",
       "204997        180+0        Normal   \n",
       "204998        180+0  Time forfeit   \n",
       "204999        180+0        Normal   \n",
       "\n",
       "                                                    moves  rating_difference  \n",
       "0       1. e4 e5 2. Nf3 Qf6 3. Bc4 Bc5 4. O-O d6 5. Nc...                -55  \n",
       "1       1. e4 c5 2. Nf3 g6 3. Bc4 Bg7 4. Nc3 e6 5. O-O...               -336  \n",
       "2                                                   1. e4                263  \n",
       "5       1. e4 e5 2. Nf3 Nc6 3. Bc4 Nf6 4. d3 Bc5 5. c3...               -244  \n",
       "6       1. e4 c6 2. c3 d5 3. e5 Bf5 4. d4 e6 5. Nf3 c5...                253  \n",
       "...                                                   ...                ...  \n",
       "204995  1. e4 g6 2. d4 Bg7 3. Nf3 d6 4. Be3 Nc6 5. Bb5...                 53  \n",
       "204996  1. e4 g6 2. Nf3 Bg7 3. d4 e6 4. Bd3 Ne7 5. O-O...                 57  \n",
       "204997  1. e4 e5 2. Bc4 Nc6 3. d3 Nf6 4. Nf3 Bc5 5. Ng...                 -8  \n",
       "204998  1. e4 Nc6 2. f4 e5 3. fxe5 Nxe5 4. Nf3 Ng6 5. ...                -24  \n",
       "204999  1. e4 d6 2. Nf3 Nf6 3. d4 g6 4. Nc3 Bg7 5. Bd3...                -26  \n",
       "\n",
       "[204522 rows x 12 columns]"
      ]
     },
     "execution_count": 24,
     "metadata": {},
     "output_type": "execute_result"
    }
   ],
   "source": [
    "lichess_data_clean"
   ]
  },
  {
   "cell_type": "markdown",
   "metadata": {},
   "source": [
    "Add a column to store the outcome of the game as an integer: 1 if white wins, zero if the games ends in a draw and -1 if black wins:"
   ]
  },
  {
   "cell_type": "code",
   "execution_count": 25,
   "metadata": {},
   "outputs": [
    {
     "data": {
      "text/plain": [
       "result\n",
       "1-0        102303\n",
       "0-1         94774\n",
       "1/2-1/2      7430\n",
       "*              15\n",
       "Name: count, dtype: int64"
      ]
     },
     "execution_count": 25,
     "metadata": {},
     "output_type": "execute_result"
    }
   ],
   "source": [
    "lichess_data_clean[\"result\"].value_counts()"
   ]
  },
  {
   "cell_type": "markdown",
   "metadata": {},
   "source": [
    "Remove result values containing disconnects:"
   ]
  },
  {
   "cell_type": "code",
   "execution_count": 26,
   "metadata": {},
   "outputs": [],
   "source": [
    "lichess_data_clean = lichess_data_clean[lichess_data_clean[\"result\"] != \"*\"] "
   ]
  },
  {
   "cell_type": "code",
   "execution_count": 27,
   "metadata": {},
   "outputs": [
    {
     "data": {
      "text/plain": [
       "result\n",
       "1-0        102303\n",
       "0-1         94774\n",
       "1/2-1/2      7430\n",
       "Name: count, dtype: int64"
      ]
     },
     "execution_count": 27,
     "metadata": {},
     "output_type": "execute_result"
    }
   ],
   "source": [
    "lichess_data_clean[\"result\"].value_counts()"
   ]
  },
  {
   "cell_type": "markdown",
   "metadata": {},
   "source": [
    "Define function to map string game results to a numerical result:"
   ]
  },
  {
   "cell_type": "code",
   "execution_count": 28,
   "metadata": {},
   "outputs": [],
   "source": [
    "def map_string_result_to_numerical_result(value):\n",
    "    if value == \"1-0\":\n",
    "        return 1\n",
    "    elif value == \"0-1\":\n",
    "        return -1\n",
    "    elif value == \"1/2-1/2\":\n",
    "        return 0\n",
    "    else: return None"
   ]
  },
  {
   "cell_type": "code",
   "execution_count": 29,
   "metadata": {},
   "outputs": [
    {
     "name": "stderr",
     "output_type": "stream",
     "text": [
      "C:\\Users\\Sasor1\\AppData\\Local\\Temp\\ipykernel_7032\\2710212476.py:1: SettingWithCopyWarning: \n",
      "A value is trying to be set on a copy of a slice from a DataFrame.\n",
      "Try using .loc[row_indexer,col_indexer] = value instead\n",
      "\n",
      "See the caveats in the documentation: https://pandas.pydata.org/pandas-docs/stable/user_guide/indexing.html#returning-a-view-versus-a-copy\n",
      "  lichess_data_clean.loc[:,\"result_num\"] = lichess_data_clean[\"result\"].apply(map_string_result_to_numerical_result)\n"
     ]
    }
   ],
   "source": [
    "lichess_data_clean.loc[:,\"result_num\"] = lichess_data_clean[\"result\"].apply(map_string_result_to_numerical_result)\n",
    "# lichess_data_clean[\"result_num\"] = lichess_data_clean[\"result\"].apply(map_string_result_to_numerical_result)"
   ]
  },
  {
   "cell_type": "code",
   "execution_count": 30,
   "metadata": {},
   "outputs": [
    {
     "data": {
      "text/plain": [
       "result_num\n",
       " 1    102303\n",
       "-1     94774\n",
       " 0      7430\n",
       "Name: count, dtype: int64"
      ]
     },
     "execution_count": 30,
     "metadata": {},
     "output_type": "execute_result"
    }
   ],
   "source": [
    "lichess_data_clean[\"result_num\"].value_counts()"
   ]
  },
  {
   "cell_type": "code",
   "execution_count": 31,
   "metadata": {},
   "outputs": [
    {
     "name": "stderr",
     "output_type": "stream",
     "text": [
      "C:\\Users\\Sasor1\\AppData\\Local\\Temp\\ipykernel_7032\\419885391.py:1: SettingWithCopyWarning: \n",
      "A value is trying to be set on a copy of a slice from a DataFrame.\n",
      "Try using .loc[row_indexer,col_indexer] = value instead\n",
      "\n",
      "See the caveats in the documentation: https://pandas.pydata.org/pandas-docs/stable/user_guide/indexing.html#returning-a-view-versus-a-copy\n",
      "  lichess_data_clean[\"result\"] = lichess_data_clean[\"result\"].astype(\"category\")\n"
     ]
    }
   ],
   "source": [
    "lichess_data_clean[\"result\"] = lichess_data_clean[\"result\"].astype(\"category\")"
   ]
  },
  {
   "cell_type": "code",
   "execution_count": 32,
   "metadata": {},
   "outputs": [
    {
     "data": {
      "text/plain": [
       "date                 datetime64[ns]\n",
       "white                        object\n",
       "black                        object\n",
       "result                     category\n",
       "white_elo                     int64\n",
       "black_elo                     int64\n",
       "eco                          object\n",
       "opening                      object\n",
       "time_control                 object\n",
       "termination                  object\n",
       "moves                        object\n",
       "rating_difference             int64\n",
       "result_num                    int64\n",
       "dtype: object"
      ]
     },
     "execution_count": 32,
     "metadata": {},
     "output_type": "execute_result"
    }
   ],
   "source": [
    "lichess_data_clean.dtypes"
   ]
  },
  {
   "cell_type": "code",
   "execution_count": 33,
   "metadata": {},
   "outputs": [
    {
     "data": {
      "text/html": [
       "<div>\n",
       "<style scoped>\n",
       "    .dataframe tbody tr th:only-of-type {\n",
       "        vertical-align: middle;\n",
       "    }\n",
       "\n",
       "    .dataframe tbody tr th {\n",
       "        vertical-align: top;\n",
       "    }\n",
       "\n",
       "    .dataframe thead th {\n",
       "        text-align: right;\n",
       "    }\n",
       "</style>\n",
       "<table border=\"1\" class=\"dataframe\">\n",
       "  <thead>\n",
       "    <tr style=\"text-align: right;\">\n",
       "      <th></th>\n",
       "      <th>date</th>\n",
       "      <th>white</th>\n",
       "      <th>black</th>\n",
       "      <th>result</th>\n",
       "      <th>white_elo</th>\n",
       "      <th>black_elo</th>\n",
       "      <th>eco</th>\n",
       "      <th>opening</th>\n",
       "      <th>time_control</th>\n",
       "      <th>termination</th>\n",
       "      <th>moves</th>\n",
       "      <th>rating_difference</th>\n",
       "      <th>result_num</th>\n",
       "    </tr>\n",
       "  </thead>\n",
       "  <tbody>\n",
       "    <tr>\n",
       "      <th>0</th>\n",
       "      <td>2024-05-01</td>\n",
       "      <td>julio_arias2</td>\n",
       "      <td>Nanaldopark</td>\n",
       "      <td>0-1</td>\n",
       "      <td>1309</td>\n",
       "      <td>1364</td>\n",
       "      <td>C40</td>\n",
       "      <td>King's Pawn Game: McConnell Defense</td>\n",
       "      <td>600+0</td>\n",
       "      <td>Normal</td>\n",
       "      <td>1. e4 e5 2. Nf3 Qf6 3. Bc4 Bc5 4. O-O d6 5. Nc...</td>\n",
       "      <td>-55</td>\n",
       "      <td>-1</td>\n",
       "    </tr>\n",
       "    <tr>\n",
       "      <th>1</th>\n",
       "      <td>2024-05-01</td>\n",
       "      <td>tbecalli</td>\n",
       "      <td>Adriano_BSB</td>\n",
       "      <td>0-1</td>\n",
       "      <td>1568</td>\n",
       "      <td>1904</td>\n",
       "      <td>B27</td>\n",
       "      <td>Sicilian Defense: Hyperaccelerated Dragon</td>\n",
       "      <td>300+0</td>\n",
       "      <td>Normal</td>\n",
       "      <td>1. e4 c5 2. Nf3 g6 3. Bc4 Bg7 4. Nc3 e6 5. O-O...</td>\n",
       "      <td>-336</td>\n",
       "      <td>-1</td>\n",
       "    </tr>\n",
       "    <tr>\n",
       "      <th>2</th>\n",
       "      <td>2024-05-01</td>\n",
       "      <td>Joao_Almeida2005</td>\n",
       "      <td>Kauani_Plnr</td>\n",
       "      <td>1-0</td>\n",
       "      <td>1918</td>\n",
       "      <td>1655</td>\n",
       "      <td>B00</td>\n",
       "      <td>King's Pawn Game</td>\n",
       "      <td>300+0</td>\n",
       "      <td>Time forfeit</td>\n",
       "      <td>1. e4</td>\n",
       "      <td>263</td>\n",
       "      <td>1</td>\n",
       "    </tr>\n",
       "    <tr>\n",
       "      <th>5</th>\n",
       "      <td>2024-05-01</td>\n",
       "      <td>OLIVEIRA13</td>\n",
       "      <td>jckawagoe</td>\n",
       "      <td>0-1</td>\n",
       "      <td>1903</td>\n",
       "      <td>2147</td>\n",
       "      <td>C54</td>\n",
       "      <td>Italian Game: Classical Variation, Giuoco Pian...</td>\n",
       "      <td>300+0</td>\n",
       "      <td>Normal</td>\n",
       "      <td>1. e4 e5 2. Nf3 Nc6 3. Bc4 Nf6 4. d3 Bc5 5. c3...</td>\n",
       "      <td>-244</td>\n",
       "      <td>-1</td>\n",
       "    </tr>\n",
       "    <tr>\n",
       "      <th>6</th>\n",
       "      <td>2024-05-01</td>\n",
       "      <td>enrique191060</td>\n",
       "      <td>electronicmoon</td>\n",
       "      <td>0-1</td>\n",
       "      <td>1842</td>\n",
       "      <td>1589</td>\n",
       "      <td>B10</td>\n",
       "      <td>Caro-Kann Defense</td>\n",
       "      <td>1800+0</td>\n",
       "      <td>Normal</td>\n",
       "      <td>1. e4 c6 2. c3 d5 3. e5 Bf5 4. d4 e6 5. Nf3 c5...</td>\n",
       "      <td>253</td>\n",
       "      <td>-1</td>\n",
       "    </tr>\n",
       "    <tr>\n",
       "      <th>...</th>\n",
       "      <td>...</td>\n",
       "      <td>...</td>\n",
       "      <td>...</td>\n",
       "      <td>...</td>\n",
       "      <td>...</td>\n",
       "      <td>...</td>\n",
       "      <td>...</td>\n",
       "      <td>...</td>\n",
       "      <td>...</td>\n",
       "      <td>...</td>\n",
       "      <td>...</td>\n",
       "      <td>...</td>\n",
       "      <td>...</td>\n",
       "    </tr>\n",
       "    <tr>\n",
       "      <th>204995</th>\n",
       "      <td>2024-05-01</td>\n",
       "      <td>iLorenz</td>\n",
       "      <td>ILUVLIVYYY</td>\n",
       "      <td>1-0</td>\n",
       "      <td>1388</td>\n",
       "      <td>1335</td>\n",
       "      <td>B06</td>\n",
       "      <td>Modern Defense</td>\n",
       "      <td>180+0</td>\n",
       "      <td>Time forfeit</td>\n",
       "      <td>1. e4 g6 2. d4 Bg7 3. Nf3 d6 4. Be3 Nc6 5. Bb5...</td>\n",
       "      <td>53</td>\n",
       "      <td>1</td>\n",
       "    </tr>\n",
       "    <tr>\n",
       "      <th>204996</th>\n",
       "      <td>2024-05-01</td>\n",
       "      <td>hulivar</td>\n",
       "      <td>Andre_uk</td>\n",
       "      <td>1-0</td>\n",
       "      <td>1291</td>\n",
       "      <td>1234</td>\n",
       "      <td>B06</td>\n",
       "      <td>Modern Defense</td>\n",
       "      <td>180+0</td>\n",
       "      <td>Time forfeit</td>\n",
       "      <td>1. e4 g6 2. Nf3 Bg7 3. d4 e6 4. Bd3 Ne7 5. O-O...</td>\n",
       "      <td>57</td>\n",
       "      <td>1</td>\n",
       "    </tr>\n",
       "    <tr>\n",
       "      <th>204997</th>\n",
       "      <td>2024-05-01</td>\n",
       "      <td>pradyumna_1</td>\n",
       "      <td>aprasher</td>\n",
       "      <td>0-1</td>\n",
       "      <td>1135</td>\n",
       "      <td>1143</td>\n",
       "      <td>C50</td>\n",
       "      <td>Italian Game: Giuoco Pianissimo, Normal</td>\n",
       "      <td>180+0</td>\n",
       "      <td>Normal</td>\n",
       "      <td>1. e4 e5 2. Bc4 Nc6 3. d3 Nf6 4. Nf3 Bc5 5. Ng...</td>\n",
       "      <td>-8</td>\n",
       "      <td>-1</td>\n",
       "    </tr>\n",
       "    <tr>\n",
       "      <th>204998</th>\n",
       "      <td>2024-05-01</td>\n",
       "      <td>CLADY</td>\n",
       "      <td>Mazinger3000</td>\n",
       "      <td>1-0</td>\n",
       "      <td>1860</td>\n",
       "      <td>1884</td>\n",
       "      <td>C30</td>\n",
       "      <td>King's Gambit Declined: Queen's Knight Defense</td>\n",
       "      <td>180+0</td>\n",
       "      <td>Time forfeit</td>\n",
       "      <td>1. e4 Nc6 2. f4 e5 3. fxe5 Nxe5 4. Nf3 Ng6 5. ...</td>\n",
       "      <td>-24</td>\n",
       "      <td>1</td>\n",
       "    </tr>\n",
       "    <tr>\n",
       "      <th>204999</th>\n",
       "      <td>2024-05-01</td>\n",
       "      <td>bharathvjy</td>\n",
       "      <td>Leibnitzer</td>\n",
       "      <td>0-1</td>\n",
       "      <td>1808</td>\n",
       "      <td>1834</td>\n",
       "      <td>B08</td>\n",
       "      <td>Pirc Defense: Classical Variation</td>\n",
       "      <td>180+0</td>\n",
       "      <td>Normal</td>\n",
       "      <td>1. e4 d6 2. Nf3 Nf6 3. d4 g6 4. Nc3 Bg7 5. Bd3...</td>\n",
       "      <td>-26</td>\n",
       "      <td>-1</td>\n",
       "    </tr>\n",
       "  </tbody>\n",
       "</table>\n",
       "<p>204507 rows × 13 columns</p>\n",
       "</div>"
      ],
      "text/plain": [
       "             date             white           black result  white_elo  \\\n",
       "0      2024-05-01      julio_arias2     Nanaldopark    0-1       1309   \n",
       "1      2024-05-01          tbecalli     Adriano_BSB    0-1       1568   \n",
       "2      2024-05-01  Joao_Almeida2005     Kauani_Plnr    1-0       1918   \n",
       "5      2024-05-01        OLIVEIRA13       jckawagoe    0-1       1903   \n",
       "6      2024-05-01     enrique191060  electronicmoon    0-1       1842   \n",
       "...           ...               ...             ...    ...        ...   \n",
       "204995 2024-05-01           iLorenz      ILUVLIVYYY    1-0       1388   \n",
       "204996 2024-05-01           hulivar        Andre_uk    1-0       1291   \n",
       "204997 2024-05-01       pradyumna_1        aprasher    0-1       1135   \n",
       "204998 2024-05-01             CLADY    Mazinger3000    1-0       1860   \n",
       "204999 2024-05-01        bharathvjy      Leibnitzer    0-1       1808   \n",
       "\n",
       "        black_elo  eco                                            opening  \\\n",
       "0            1364  C40                King's Pawn Game: McConnell Defense   \n",
       "1            1904  B27          Sicilian Defense: Hyperaccelerated Dragon   \n",
       "2            1655  B00                                   King's Pawn Game   \n",
       "5            2147  C54  Italian Game: Classical Variation, Giuoco Pian...   \n",
       "6            1589  B10                                  Caro-Kann Defense   \n",
       "...           ...  ...                                                ...   \n",
       "204995       1335  B06                                     Modern Defense   \n",
       "204996       1234  B06                                     Modern Defense   \n",
       "204997       1143  C50            Italian Game: Giuoco Pianissimo, Normal   \n",
       "204998       1884  C30     King's Gambit Declined: Queen's Knight Defense   \n",
       "204999       1834  B08                  Pirc Defense: Classical Variation   \n",
       "\n",
       "       time_control   termination  \\\n",
       "0             600+0        Normal   \n",
       "1             300+0        Normal   \n",
       "2             300+0  Time forfeit   \n",
       "5             300+0        Normal   \n",
       "6            1800+0        Normal   \n",
       "...             ...           ...   \n",
       "204995        180+0  Time forfeit   \n",
       "204996        180+0  Time forfeit   \n",
       "204997        180+0        Normal   \n",
       "204998        180+0  Time forfeit   \n",
       "204999        180+0        Normal   \n",
       "\n",
       "                                                    moves  rating_difference  \\\n",
       "0       1. e4 e5 2. Nf3 Qf6 3. Bc4 Bc5 4. O-O d6 5. Nc...                -55   \n",
       "1       1. e4 c5 2. Nf3 g6 3. Bc4 Bg7 4. Nc3 e6 5. O-O...               -336   \n",
       "2                                                   1. e4                263   \n",
       "5       1. e4 e5 2. Nf3 Nc6 3. Bc4 Nf6 4. d3 Bc5 5. c3...               -244   \n",
       "6       1. e4 c6 2. c3 d5 3. e5 Bf5 4. d4 e6 5. Nf3 c5...                253   \n",
       "...                                                   ...                ...   \n",
       "204995  1. e4 g6 2. d4 Bg7 3. Nf3 d6 4. Be3 Nc6 5. Bb5...                 53   \n",
       "204996  1. e4 g6 2. Nf3 Bg7 3. d4 e6 4. Bd3 Ne7 5. O-O...                 57   \n",
       "204997  1. e4 e5 2. Bc4 Nc6 3. d3 Nf6 4. Nf3 Bc5 5. Ng...                 -8   \n",
       "204998  1. e4 Nc6 2. f4 e5 3. fxe5 Nxe5 4. Nf3 Ng6 5. ...                -24   \n",
       "204999  1. e4 d6 2. Nf3 Nf6 3. d4 g6 4. Nc3 Bg7 5. Bd3...                -26   \n",
       "\n",
       "        result_num  \n",
       "0               -1  \n",
       "1               -1  \n",
       "2                1  \n",
       "5               -1  \n",
       "6               -1  \n",
       "...            ...  \n",
       "204995           1  \n",
       "204996           1  \n",
       "204997          -1  \n",
       "204998           1  \n",
       "204999          -1  \n",
       "\n",
       "[204507 rows x 13 columns]"
      ]
     },
     "execution_count": 33,
     "metadata": {},
     "output_type": "execute_result"
    }
   ],
   "source": [
    "lichess_data_clean"
   ]
  },
  {
   "cell_type": "markdown",
   "metadata": {},
   "source": [
    "Below I will define a function to count the number of moves in each game. Then I will create a number_of_moves_ column."
   ]
  },
  {
   "cell_type": "code",
   "execution_count": 34,
   "metadata": {},
   "outputs": [],
   "source": [
    "def count_moves(moves):\n",
    "    # Split by '.' to identify full moves, then subtract 1 (for index starting at 1)\n",
    "    return len(moves.split('.')) - 1"
   ]
  },
  {
   "cell_type": "code",
   "execution_count": 35,
   "metadata": {},
   "outputs": [
    {
     "name": "stderr",
     "output_type": "stream",
     "text": [
      "C:\\Users\\Sasor1\\AppData\\Local\\Temp\\ipykernel_7032\\93758785.py:1: SettingWithCopyWarning: \n",
      "A value is trying to be set on a copy of a slice from a DataFrame.\n",
      "Try using .loc[row_indexer,col_indexer] = value instead\n",
      "\n",
      "See the caveats in the documentation: https://pandas.pydata.org/pandas-docs/stable/user_guide/indexing.html#returning-a-view-versus-a-copy\n",
      "  lichess_data_clean.loc[:, \"number_of_moves\"] = lichess_data_clean[\"moves\"].apply(count_moves)\n"
     ]
    }
   ],
   "source": [
    "lichess_data_clean.loc[:, \"number_of_moves\"] = lichess_data_clean[\"moves\"].apply(count_moves)\n",
    "#lichess_data_clean[\"number_of_moves\"] = lichess_data_clean[\"moves\"].apply(count_moves) "
   ]
  },
  {
   "cell_type": "code",
   "execution_count": 36,
   "metadata": {},
   "outputs": [
    {
     "data": {
      "text/plain": [
       "Index(['date', 'white', 'black', 'result', 'white_elo', 'black_elo', 'eco',\n",
       "       'opening', 'time_control', 'termination', 'moves', 'rating_difference',\n",
       "       'result_num', 'number_of_moves'],\n",
       "      dtype='object')"
      ]
     },
     "execution_count": 36,
     "metadata": {},
     "output_type": "execute_result"
    }
   ],
   "source": [
    "lichess_data_clean.columns"
   ]
  },
  {
   "cell_type": "markdown",
   "metadata": {},
   "source": [
    "Rearange columns:"
   ]
  },
  {
   "cell_type": "code",
   "execution_count": 37,
   "metadata": {},
   "outputs": [
    {
     "data": {
      "text/plain": [
       "['date',\n",
       " 'white',\n",
       " 'black',\n",
       " 'result',\n",
       " 'white_elo',\n",
       " 'black_elo',\n",
       " 'eco',\n",
       " 'opening',\n",
       " 'time_control',\n",
       " 'termination',\n",
       " 'moves',\n",
       " 'rating_difference',\n",
       " 'result_num',\n",
       " 'number_of_moves']"
      ]
     },
     "execution_count": 37,
     "metadata": {},
     "output_type": "execute_result"
    }
   ],
   "source": [
    "columns= list(lichess_data_clean.columns.values)\n",
    "columns"
   ]
  },
  {
   "cell_type": "code",
   "execution_count": 38,
   "metadata": {},
   "outputs": [],
   "source": [
    "new_order = [\n",
    "'date',\n",
    "'white',\n",
    "'black',\n",
    "'result',\n",
    "'result_num',\n",
    "'white_elo',\n",
    "'black_elo',\n",
    "'rating_difference',\n",
    "'moves',\n",
    "'number_of_moves',\n",
    "'eco',\n",
    "'opening',\n",
    "'time_control',\n",
    "'termination'\n",
    "]"
   ]
  },
  {
   "cell_type": "code",
   "execution_count": 39,
   "metadata": {},
   "outputs": [
    {
     "data": {
      "text/html": [
       "<div>\n",
       "<style scoped>\n",
       "    .dataframe tbody tr th:only-of-type {\n",
       "        vertical-align: middle;\n",
       "    }\n",
       "\n",
       "    .dataframe tbody tr th {\n",
       "        vertical-align: top;\n",
       "    }\n",
       "\n",
       "    .dataframe thead th {\n",
       "        text-align: right;\n",
       "    }\n",
       "</style>\n",
       "<table border=\"1\" class=\"dataframe\">\n",
       "  <thead>\n",
       "    <tr style=\"text-align: right;\">\n",
       "      <th></th>\n",
       "      <th>date</th>\n",
       "      <th>white</th>\n",
       "      <th>black</th>\n",
       "      <th>result</th>\n",
       "      <th>result_num</th>\n",
       "      <th>white_elo</th>\n",
       "      <th>black_elo</th>\n",
       "      <th>rating_difference</th>\n",
       "      <th>moves</th>\n",
       "      <th>number_of_moves</th>\n",
       "      <th>eco</th>\n",
       "      <th>opening</th>\n",
       "      <th>time_control</th>\n",
       "      <th>termination</th>\n",
       "    </tr>\n",
       "  </thead>\n",
       "  <tbody>\n",
       "    <tr>\n",
       "      <th>0</th>\n",
       "      <td>2024-05-01</td>\n",
       "      <td>julio_arias2</td>\n",
       "      <td>Nanaldopark</td>\n",
       "      <td>0-1</td>\n",
       "      <td>-1</td>\n",
       "      <td>1309</td>\n",
       "      <td>1364</td>\n",
       "      <td>-55</td>\n",
       "      <td>1. e4 e5 2. Nf3 Qf6 3. Bc4 Bc5 4. O-O d6 5. Nc...</td>\n",
       "      <td>21</td>\n",
       "      <td>C40</td>\n",
       "      <td>King's Pawn Game: McConnell Defense</td>\n",
       "      <td>600+0</td>\n",
       "      <td>Normal</td>\n",
       "    </tr>\n",
       "    <tr>\n",
       "      <th>1</th>\n",
       "      <td>2024-05-01</td>\n",
       "      <td>tbecalli</td>\n",
       "      <td>Adriano_BSB</td>\n",
       "      <td>0-1</td>\n",
       "      <td>-1</td>\n",
       "      <td>1568</td>\n",
       "      <td>1904</td>\n",
       "      <td>-336</td>\n",
       "      <td>1. e4 c5 2. Nf3 g6 3. Bc4 Bg7 4. Nc3 e6 5. O-O...</td>\n",
       "      <td>78</td>\n",
       "      <td>B27</td>\n",
       "      <td>Sicilian Defense: Hyperaccelerated Dragon</td>\n",
       "      <td>300+0</td>\n",
       "      <td>Normal</td>\n",
       "    </tr>\n",
       "    <tr>\n",
       "      <th>2</th>\n",
       "      <td>2024-05-01</td>\n",
       "      <td>Joao_Almeida2005</td>\n",
       "      <td>Kauani_Plnr</td>\n",
       "      <td>1-0</td>\n",
       "      <td>1</td>\n",
       "      <td>1918</td>\n",
       "      <td>1655</td>\n",
       "      <td>263</td>\n",
       "      <td>1. e4</td>\n",
       "      <td>1</td>\n",
       "      <td>B00</td>\n",
       "      <td>King's Pawn Game</td>\n",
       "      <td>300+0</td>\n",
       "      <td>Time forfeit</td>\n",
       "    </tr>\n",
       "    <tr>\n",
       "      <th>5</th>\n",
       "      <td>2024-05-01</td>\n",
       "      <td>OLIVEIRA13</td>\n",
       "      <td>jckawagoe</td>\n",
       "      <td>0-1</td>\n",
       "      <td>-1</td>\n",
       "      <td>1903</td>\n",
       "      <td>2147</td>\n",
       "      <td>-244</td>\n",
       "      <td>1. e4 e5 2. Nf3 Nc6 3. Bc4 Nf6 4. d3 Bc5 5. c3...</td>\n",
       "      <td>33</td>\n",
       "      <td>C54</td>\n",
       "      <td>Italian Game: Classical Variation, Giuoco Pian...</td>\n",
       "      <td>300+0</td>\n",
       "      <td>Normal</td>\n",
       "    </tr>\n",
       "    <tr>\n",
       "      <th>6</th>\n",
       "      <td>2024-05-01</td>\n",
       "      <td>enrique191060</td>\n",
       "      <td>electronicmoon</td>\n",
       "      <td>0-1</td>\n",
       "      <td>-1</td>\n",
       "      <td>1842</td>\n",
       "      <td>1589</td>\n",
       "      <td>253</td>\n",
       "      <td>1. e4 c6 2. c3 d5 3. e5 Bf5 4. d4 e6 5. Nf3 c5...</td>\n",
       "      <td>55</td>\n",
       "      <td>B10</td>\n",
       "      <td>Caro-Kann Defense</td>\n",
       "      <td>1800+0</td>\n",
       "      <td>Normal</td>\n",
       "    </tr>\n",
       "    <tr>\n",
       "      <th>...</th>\n",
       "      <td>...</td>\n",
       "      <td>...</td>\n",
       "      <td>...</td>\n",
       "      <td>...</td>\n",
       "      <td>...</td>\n",
       "      <td>...</td>\n",
       "      <td>...</td>\n",
       "      <td>...</td>\n",
       "      <td>...</td>\n",
       "      <td>...</td>\n",
       "      <td>...</td>\n",
       "      <td>...</td>\n",
       "      <td>...</td>\n",
       "      <td>...</td>\n",
       "    </tr>\n",
       "    <tr>\n",
       "      <th>204995</th>\n",
       "      <td>2024-05-01</td>\n",
       "      <td>iLorenz</td>\n",
       "      <td>ILUVLIVYYY</td>\n",
       "      <td>1-0</td>\n",
       "      <td>1</td>\n",
       "      <td>1388</td>\n",
       "      <td>1335</td>\n",
       "      <td>53</td>\n",
       "      <td>1. e4 g6 2. d4 Bg7 3. Nf3 d6 4. Be3 Nc6 5. Bb5...</td>\n",
       "      <td>34</td>\n",
       "      <td>B06</td>\n",
       "      <td>Modern Defense</td>\n",
       "      <td>180+0</td>\n",
       "      <td>Time forfeit</td>\n",
       "    </tr>\n",
       "    <tr>\n",
       "      <th>204996</th>\n",
       "      <td>2024-05-01</td>\n",
       "      <td>hulivar</td>\n",
       "      <td>Andre_uk</td>\n",
       "      <td>1-0</td>\n",
       "      <td>1</td>\n",
       "      <td>1291</td>\n",
       "      <td>1234</td>\n",
       "      <td>57</td>\n",
       "      <td>1. e4 g6 2. Nf3 Bg7 3. d4 e6 4. Bd3 Ne7 5. O-O...</td>\n",
       "      <td>31</td>\n",
       "      <td>B06</td>\n",
       "      <td>Modern Defense</td>\n",
       "      <td>180+0</td>\n",
       "      <td>Time forfeit</td>\n",
       "    </tr>\n",
       "    <tr>\n",
       "      <th>204997</th>\n",
       "      <td>2024-05-01</td>\n",
       "      <td>pradyumna_1</td>\n",
       "      <td>aprasher</td>\n",
       "      <td>0-1</td>\n",
       "      <td>-1</td>\n",
       "      <td>1135</td>\n",
       "      <td>1143</td>\n",
       "      <td>-8</td>\n",
       "      <td>1. e4 e5 2. Bc4 Nc6 3. d3 Nf6 4. Nf3 Bc5 5. Ng...</td>\n",
       "      <td>21</td>\n",
       "      <td>C50</td>\n",
       "      <td>Italian Game: Giuoco Pianissimo, Normal</td>\n",
       "      <td>180+0</td>\n",
       "      <td>Normal</td>\n",
       "    </tr>\n",
       "    <tr>\n",
       "      <th>204998</th>\n",
       "      <td>2024-05-01</td>\n",
       "      <td>CLADY</td>\n",
       "      <td>Mazinger3000</td>\n",
       "      <td>1-0</td>\n",
       "      <td>1</td>\n",
       "      <td>1860</td>\n",
       "      <td>1884</td>\n",
       "      <td>-24</td>\n",
       "      <td>1. e4 Nc6 2. f4 e5 3. fxe5 Nxe5 4. Nf3 Ng6 5. ...</td>\n",
       "      <td>32</td>\n",
       "      <td>C30</td>\n",
       "      <td>King's Gambit Declined: Queen's Knight Defense</td>\n",
       "      <td>180+0</td>\n",
       "      <td>Time forfeit</td>\n",
       "    </tr>\n",
       "    <tr>\n",
       "      <th>204999</th>\n",
       "      <td>2024-05-01</td>\n",
       "      <td>bharathvjy</td>\n",
       "      <td>Leibnitzer</td>\n",
       "      <td>0-1</td>\n",
       "      <td>-1</td>\n",
       "      <td>1808</td>\n",
       "      <td>1834</td>\n",
       "      <td>-26</td>\n",
       "      <td>1. e4 d6 2. Nf3 Nf6 3. d4 g6 4. Nc3 Bg7 5. Bd3...</td>\n",
       "      <td>27</td>\n",
       "      <td>B08</td>\n",
       "      <td>Pirc Defense: Classical Variation</td>\n",
       "      <td>180+0</td>\n",
       "      <td>Normal</td>\n",
       "    </tr>\n",
       "  </tbody>\n",
       "</table>\n",
       "<p>204507 rows × 14 columns</p>\n",
       "</div>"
      ],
      "text/plain": [
       "             date             white           black result  result_num  \\\n",
       "0      2024-05-01      julio_arias2     Nanaldopark    0-1          -1   \n",
       "1      2024-05-01          tbecalli     Adriano_BSB    0-1          -1   \n",
       "2      2024-05-01  Joao_Almeida2005     Kauani_Plnr    1-0           1   \n",
       "5      2024-05-01        OLIVEIRA13       jckawagoe    0-1          -1   \n",
       "6      2024-05-01     enrique191060  electronicmoon    0-1          -1   \n",
       "...           ...               ...             ...    ...         ...   \n",
       "204995 2024-05-01           iLorenz      ILUVLIVYYY    1-0           1   \n",
       "204996 2024-05-01           hulivar        Andre_uk    1-0           1   \n",
       "204997 2024-05-01       pradyumna_1        aprasher    0-1          -1   \n",
       "204998 2024-05-01             CLADY    Mazinger3000    1-0           1   \n",
       "204999 2024-05-01        bharathvjy      Leibnitzer    0-1          -1   \n",
       "\n",
       "        white_elo  black_elo  rating_difference  \\\n",
       "0            1309       1364                -55   \n",
       "1            1568       1904               -336   \n",
       "2            1918       1655                263   \n",
       "5            1903       2147               -244   \n",
       "6            1842       1589                253   \n",
       "...           ...        ...                ...   \n",
       "204995       1388       1335                 53   \n",
       "204996       1291       1234                 57   \n",
       "204997       1135       1143                 -8   \n",
       "204998       1860       1884                -24   \n",
       "204999       1808       1834                -26   \n",
       "\n",
       "                                                    moves  number_of_moves  \\\n",
       "0       1. e4 e5 2. Nf3 Qf6 3. Bc4 Bc5 4. O-O d6 5. Nc...               21   \n",
       "1       1. e4 c5 2. Nf3 g6 3. Bc4 Bg7 4. Nc3 e6 5. O-O...               78   \n",
       "2                                                   1. e4                1   \n",
       "5       1. e4 e5 2. Nf3 Nc6 3. Bc4 Nf6 4. d3 Bc5 5. c3...               33   \n",
       "6       1. e4 c6 2. c3 d5 3. e5 Bf5 4. d4 e6 5. Nf3 c5...               55   \n",
       "...                                                   ...              ...   \n",
       "204995  1. e4 g6 2. d4 Bg7 3. Nf3 d6 4. Be3 Nc6 5. Bb5...               34   \n",
       "204996  1. e4 g6 2. Nf3 Bg7 3. d4 e6 4. Bd3 Ne7 5. O-O...               31   \n",
       "204997  1. e4 e5 2. Bc4 Nc6 3. d3 Nf6 4. Nf3 Bc5 5. Ng...               21   \n",
       "204998  1. e4 Nc6 2. f4 e5 3. fxe5 Nxe5 4. Nf3 Ng6 5. ...               32   \n",
       "204999  1. e4 d6 2. Nf3 Nf6 3. d4 g6 4. Nc3 Bg7 5. Bd3...               27   \n",
       "\n",
       "        eco                                            opening time_control  \\\n",
       "0       C40                King's Pawn Game: McConnell Defense        600+0   \n",
       "1       B27          Sicilian Defense: Hyperaccelerated Dragon        300+0   \n",
       "2       B00                                   King's Pawn Game        300+0   \n",
       "5       C54  Italian Game: Classical Variation, Giuoco Pian...        300+0   \n",
       "6       B10                                  Caro-Kann Defense       1800+0   \n",
       "...     ...                                                ...          ...   \n",
       "204995  B06                                     Modern Defense        180+0   \n",
       "204996  B06                                     Modern Defense        180+0   \n",
       "204997  C50            Italian Game: Giuoco Pianissimo, Normal        180+0   \n",
       "204998  C30     King's Gambit Declined: Queen's Knight Defense        180+0   \n",
       "204999  B08                  Pirc Defense: Classical Variation        180+0   \n",
       "\n",
       "         termination  \n",
       "0             Normal  \n",
       "1             Normal  \n",
       "2       Time forfeit  \n",
       "5             Normal  \n",
       "6             Normal  \n",
       "...              ...  \n",
       "204995  Time forfeit  \n",
       "204996  Time forfeit  \n",
       "204997        Normal  \n",
       "204998  Time forfeit  \n",
       "204999        Normal  \n",
       "\n",
       "[204507 rows x 14 columns]"
      ]
     },
     "execution_count": 39,
     "metadata": {},
     "output_type": "execute_result"
    }
   ],
   "source": [
    "lichess_data_clean = lichess_data_clean[new_order]\n",
    "del columns\n",
    "del new_order\n",
    "lichess_data_clean"
   ]
  },
  {
   "cell_type": "code",
   "execution_count": 40,
   "metadata": {},
   "outputs": [
    {
     "data": {
      "text/plain": [
       "time_control\n",
       "60+0       59935\n",
       "180+0      40534\n",
       "300+0      27691\n",
       "600+0      21022\n",
       "180+2      17063\n",
       "           ...  \n",
       "900+45         1\n",
       "45+15          1\n",
       "1500+25        1\n",
       "600+120        1\n",
       "420+4          1\n",
       "Name: count, Length: 274, dtype: int64"
      ]
     },
     "execution_count": 40,
     "metadata": {},
     "output_type": "execute_result"
    }
   ],
   "source": [
    "lichess_data_clean[\"time_control\"].value_counts()"
   ]
  },
  {
   "cell_type": "markdown",
   "metadata": {},
   "source": [
    "Some of the games could contain engine evalutions together with the moves. This could create problems in future processing because such games will not fit the general format. Below I define a function to check for such cases. Then, I will remove such games from the dateset it they exist."
   ]
  },
  {
   "cell_type": "code",
   "execution_count": 41,
   "metadata": {},
   "outputs": [],
   "source": [
    "def contains_engine_evaluations(pgn_text):\n",
    "    # Pattern to detect engine evaluations in PGN\n",
    "    evaluation_pattern = r'\\[%eval'\n",
    "    return bool(re.search(evaluation_pattern, pgn_text))"
   ]
  },
  {
   "cell_type": "code",
   "execution_count": 42,
   "metadata": {},
   "outputs": [
    {
     "data": {
      "text/plain": [
       "0"
      ]
     },
     "execution_count": 42,
     "metadata": {},
     "output_type": "execute_result"
    }
   ],
   "source": [
    "lichess_data_clean[\"moves\"].apply(contains_engine_evaluations).sum()"
   ]
  },
  {
   "cell_type": "markdown",
   "metadata": {},
   "source": [
    "There are no games containing engine evaluations in the dataset."
   ]
  },
  {
   "cell_type": "markdown",
   "metadata": {},
   "source": [
    "Resetting indexes:"
   ]
  },
  {
   "cell_type": "code",
   "execution_count": 43,
   "metadata": {},
   "outputs": [],
   "source": [
    "lichess_data_clean = lichess_data_clean.reset_index(drop = True)"
   ]
  },
  {
   "cell_type": "code",
   "execution_count": 44,
   "metadata": {},
   "outputs": [
    {
     "data": {
      "text/html": [
       "<div>\n",
       "<style scoped>\n",
       "    .dataframe tbody tr th:only-of-type {\n",
       "        vertical-align: middle;\n",
       "    }\n",
       "\n",
       "    .dataframe tbody tr th {\n",
       "        vertical-align: top;\n",
       "    }\n",
       "\n",
       "    .dataframe thead th {\n",
       "        text-align: right;\n",
       "    }\n",
       "</style>\n",
       "<table border=\"1\" class=\"dataframe\">\n",
       "  <thead>\n",
       "    <tr style=\"text-align: right;\">\n",
       "      <th></th>\n",
       "      <th>date</th>\n",
       "      <th>white</th>\n",
       "      <th>black</th>\n",
       "      <th>result</th>\n",
       "      <th>result_num</th>\n",
       "      <th>white_elo</th>\n",
       "      <th>black_elo</th>\n",
       "      <th>rating_difference</th>\n",
       "      <th>moves</th>\n",
       "      <th>number_of_moves</th>\n",
       "      <th>eco</th>\n",
       "      <th>opening</th>\n",
       "      <th>time_control</th>\n",
       "      <th>termination</th>\n",
       "    </tr>\n",
       "  </thead>\n",
       "  <tbody>\n",
       "    <tr>\n",
       "      <th>0</th>\n",
       "      <td>2024-05-01</td>\n",
       "      <td>julio_arias2</td>\n",
       "      <td>Nanaldopark</td>\n",
       "      <td>0-1</td>\n",
       "      <td>-1</td>\n",
       "      <td>1309</td>\n",
       "      <td>1364</td>\n",
       "      <td>-55</td>\n",
       "      <td>1. e4 e5 2. Nf3 Qf6 3. Bc4 Bc5 4. O-O d6 5. Nc...</td>\n",
       "      <td>21</td>\n",
       "      <td>C40</td>\n",
       "      <td>King's Pawn Game: McConnell Defense</td>\n",
       "      <td>600+0</td>\n",
       "      <td>Normal</td>\n",
       "    </tr>\n",
       "    <tr>\n",
       "      <th>1</th>\n",
       "      <td>2024-05-01</td>\n",
       "      <td>tbecalli</td>\n",
       "      <td>Adriano_BSB</td>\n",
       "      <td>0-1</td>\n",
       "      <td>-1</td>\n",
       "      <td>1568</td>\n",
       "      <td>1904</td>\n",
       "      <td>-336</td>\n",
       "      <td>1. e4 c5 2. Nf3 g6 3. Bc4 Bg7 4. Nc3 e6 5. O-O...</td>\n",
       "      <td>78</td>\n",
       "      <td>B27</td>\n",
       "      <td>Sicilian Defense: Hyperaccelerated Dragon</td>\n",
       "      <td>300+0</td>\n",
       "      <td>Normal</td>\n",
       "    </tr>\n",
       "    <tr>\n",
       "      <th>2</th>\n",
       "      <td>2024-05-01</td>\n",
       "      <td>Joao_Almeida2005</td>\n",
       "      <td>Kauani_Plnr</td>\n",
       "      <td>1-0</td>\n",
       "      <td>1</td>\n",
       "      <td>1918</td>\n",
       "      <td>1655</td>\n",
       "      <td>263</td>\n",
       "      <td>1. e4</td>\n",
       "      <td>1</td>\n",
       "      <td>B00</td>\n",
       "      <td>King's Pawn Game</td>\n",
       "      <td>300+0</td>\n",
       "      <td>Time forfeit</td>\n",
       "    </tr>\n",
       "    <tr>\n",
       "      <th>3</th>\n",
       "      <td>2024-05-01</td>\n",
       "      <td>OLIVEIRA13</td>\n",
       "      <td>jckawagoe</td>\n",
       "      <td>0-1</td>\n",
       "      <td>-1</td>\n",
       "      <td>1903</td>\n",
       "      <td>2147</td>\n",
       "      <td>-244</td>\n",
       "      <td>1. e4 e5 2. Nf3 Nc6 3. Bc4 Nf6 4. d3 Bc5 5. c3...</td>\n",
       "      <td>33</td>\n",
       "      <td>C54</td>\n",
       "      <td>Italian Game: Classical Variation, Giuoco Pian...</td>\n",
       "      <td>300+0</td>\n",
       "      <td>Normal</td>\n",
       "    </tr>\n",
       "    <tr>\n",
       "      <th>4</th>\n",
       "      <td>2024-05-01</td>\n",
       "      <td>enrique191060</td>\n",
       "      <td>electronicmoon</td>\n",
       "      <td>0-1</td>\n",
       "      <td>-1</td>\n",
       "      <td>1842</td>\n",
       "      <td>1589</td>\n",
       "      <td>253</td>\n",
       "      <td>1. e4 c6 2. c3 d5 3. e5 Bf5 4. d4 e6 5. Nf3 c5...</td>\n",
       "      <td>55</td>\n",
       "      <td>B10</td>\n",
       "      <td>Caro-Kann Defense</td>\n",
       "      <td>1800+0</td>\n",
       "      <td>Normal</td>\n",
       "    </tr>\n",
       "    <tr>\n",
       "      <th>...</th>\n",
       "      <td>...</td>\n",
       "      <td>...</td>\n",
       "      <td>...</td>\n",
       "      <td>...</td>\n",
       "      <td>...</td>\n",
       "      <td>...</td>\n",
       "      <td>...</td>\n",
       "      <td>...</td>\n",
       "      <td>...</td>\n",
       "      <td>...</td>\n",
       "      <td>...</td>\n",
       "      <td>...</td>\n",
       "      <td>...</td>\n",
       "      <td>...</td>\n",
       "    </tr>\n",
       "    <tr>\n",
       "      <th>204502</th>\n",
       "      <td>2024-05-01</td>\n",
       "      <td>iLorenz</td>\n",
       "      <td>ILUVLIVYYY</td>\n",
       "      <td>1-0</td>\n",
       "      <td>1</td>\n",
       "      <td>1388</td>\n",
       "      <td>1335</td>\n",
       "      <td>53</td>\n",
       "      <td>1. e4 g6 2. d4 Bg7 3. Nf3 d6 4. Be3 Nc6 5. Bb5...</td>\n",
       "      <td>34</td>\n",
       "      <td>B06</td>\n",
       "      <td>Modern Defense</td>\n",
       "      <td>180+0</td>\n",
       "      <td>Time forfeit</td>\n",
       "    </tr>\n",
       "    <tr>\n",
       "      <th>204503</th>\n",
       "      <td>2024-05-01</td>\n",
       "      <td>hulivar</td>\n",
       "      <td>Andre_uk</td>\n",
       "      <td>1-0</td>\n",
       "      <td>1</td>\n",
       "      <td>1291</td>\n",
       "      <td>1234</td>\n",
       "      <td>57</td>\n",
       "      <td>1. e4 g6 2. Nf3 Bg7 3. d4 e6 4. Bd3 Ne7 5. O-O...</td>\n",
       "      <td>31</td>\n",
       "      <td>B06</td>\n",
       "      <td>Modern Defense</td>\n",
       "      <td>180+0</td>\n",
       "      <td>Time forfeit</td>\n",
       "    </tr>\n",
       "    <tr>\n",
       "      <th>204504</th>\n",
       "      <td>2024-05-01</td>\n",
       "      <td>pradyumna_1</td>\n",
       "      <td>aprasher</td>\n",
       "      <td>0-1</td>\n",
       "      <td>-1</td>\n",
       "      <td>1135</td>\n",
       "      <td>1143</td>\n",
       "      <td>-8</td>\n",
       "      <td>1. e4 e5 2. Bc4 Nc6 3. d3 Nf6 4. Nf3 Bc5 5. Ng...</td>\n",
       "      <td>21</td>\n",
       "      <td>C50</td>\n",
       "      <td>Italian Game: Giuoco Pianissimo, Normal</td>\n",
       "      <td>180+0</td>\n",
       "      <td>Normal</td>\n",
       "    </tr>\n",
       "    <tr>\n",
       "      <th>204505</th>\n",
       "      <td>2024-05-01</td>\n",
       "      <td>CLADY</td>\n",
       "      <td>Mazinger3000</td>\n",
       "      <td>1-0</td>\n",
       "      <td>1</td>\n",
       "      <td>1860</td>\n",
       "      <td>1884</td>\n",
       "      <td>-24</td>\n",
       "      <td>1. e4 Nc6 2. f4 e5 3. fxe5 Nxe5 4. Nf3 Ng6 5. ...</td>\n",
       "      <td>32</td>\n",
       "      <td>C30</td>\n",
       "      <td>King's Gambit Declined: Queen's Knight Defense</td>\n",
       "      <td>180+0</td>\n",
       "      <td>Time forfeit</td>\n",
       "    </tr>\n",
       "    <tr>\n",
       "      <th>204506</th>\n",
       "      <td>2024-05-01</td>\n",
       "      <td>bharathvjy</td>\n",
       "      <td>Leibnitzer</td>\n",
       "      <td>0-1</td>\n",
       "      <td>-1</td>\n",
       "      <td>1808</td>\n",
       "      <td>1834</td>\n",
       "      <td>-26</td>\n",
       "      <td>1. e4 d6 2. Nf3 Nf6 3. d4 g6 4. Nc3 Bg7 5. Bd3...</td>\n",
       "      <td>27</td>\n",
       "      <td>B08</td>\n",
       "      <td>Pirc Defense: Classical Variation</td>\n",
       "      <td>180+0</td>\n",
       "      <td>Normal</td>\n",
       "    </tr>\n",
       "  </tbody>\n",
       "</table>\n",
       "<p>204507 rows × 14 columns</p>\n",
       "</div>"
      ],
      "text/plain": [
       "             date             white           black result  result_num  \\\n",
       "0      2024-05-01      julio_arias2     Nanaldopark    0-1          -1   \n",
       "1      2024-05-01          tbecalli     Adriano_BSB    0-1          -1   \n",
       "2      2024-05-01  Joao_Almeida2005     Kauani_Plnr    1-0           1   \n",
       "3      2024-05-01        OLIVEIRA13       jckawagoe    0-1          -1   \n",
       "4      2024-05-01     enrique191060  electronicmoon    0-1          -1   \n",
       "...           ...               ...             ...    ...         ...   \n",
       "204502 2024-05-01           iLorenz      ILUVLIVYYY    1-0           1   \n",
       "204503 2024-05-01           hulivar        Andre_uk    1-0           1   \n",
       "204504 2024-05-01       pradyumna_1        aprasher    0-1          -1   \n",
       "204505 2024-05-01             CLADY    Mazinger3000    1-0           1   \n",
       "204506 2024-05-01        bharathvjy      Leibnitzer    0-1          -1   \n",
       "\n",
       "        white_elo  black_elo  rating_difference  \\\n",
       "0            1309       1364                -55   \n",
       "1            1568       1904               -336   \n",
       "2            1918       1655                263   \n",
       "3            1903       2147               -244   \n",
       "4            1842       1589                253   \n",
       "...           ...        ...                ...   \n",
       "204502       1388       1335                 53   \n",
       "204503       1291       1234                 57   \n",
       "204504       1135       1143                 -8   \n",
       "204505       1860       1884                -24   \n",
       "204506       1808       1834                -26   \n",
       "\n",
       "                                                    moves  number_of_moves  \\\n",
       "0       1. e4 e5 2. Nf3 Qf6 3. Bc4 Bc5 4. O-O d6 5. Nc...               21   \n",
       "1       1. e4 c5 2. Nf3 g6 3. Bc4 Bg7 4. Nc3 e6 5. O-O...               78   \n",
       "2                                                   1. e4                1   \n",
       "3       1. e4 e5 2. Nf3 Nc6 3. Bc4 Nf6 4. d3 Bc5 5. c3...               33   \n",
       "4       1. e4 c6 2. c3 d5 3. e5 Bf5 4. d4 e6 5. Nf3 c5...               55   \n",
       "...                                                   ...              ...   \n",
       "204502  1. e4 g6 2. d4 Bg7 3. Nf3 d6 4. Be3 Nc6 5. Bb5...               34   \n",
       "204503  1. e4 g6 2. Nf3 Bg7 3. d4 e6 4. Bd3 Ne7 5. O-O...               31   \n",
       "204504  1. e4 e5 2. Bc4 Nc6 3. d3 Nf6 4. Nf3 Bc5 5. Ng...               21   \n",
       "204505  1. e4 Nc6 2. f4 e5 3. fxe5 Nxe5 4. Nf3 Ng6 5. ...               32   \n",
       "204506  1. e4 d6 2. Nf3 Nf6 3. d4 g6 4. Nc3 Bg7 5. Bd3...               27   \n",
       "\n",
       "        eco                                            opening time_control  \\\n",
       "0       C40                King's Pawn Game: McConnell Defense        600+0   \n",
       "1       B27          Sicilian Defense: Hyperaccelerated Dragon        300+0   \n",
       "2       B00                                   King's Pawn Game        300+0   \n",
       "3       C54  Italian Game: Classical Variation, Giuoco Pian...        300+0   \n",
       "4       B10                                  Caro-Kann Defense       1800+0   \n",
       "...     ...                                                ...          ...   \n",
       "204502  B06                                     Modern Defense        180+0   \n",
       "204503  B06                                     Modern Defense        180+0   \n",
       "204504  C50            Italian Game: Giuoco Pianissimo, Normal        180+0   \n",
       "204505  C30     King's Gambit Declined: Queen's Knight Defense        180+0   \n",
       "204506  B08                  Pirc Defense: Classical Variation        180+0   \n",
       "\n",
       "         termination  \n",
       "0             Normal  \n",
       "1             Normal  \n",
       "2       Time forfeit  \n",
       "3             Normal  \n",
       "4             Normal  \n",
       "...              ...  \n",
       "204502  Time forfeit  \n",
       "204503  Time forfeit  \n",
       "204504        Normal  \n",
       "204505  Time forfeit  \n",
       "204506        Normal  \n",
       "\n",
       "[204507 rows x 14 columns]"
      ]
     },
     "execution_count": 44,
     "metadata": {},
     "output_type": "execute_result"
    }
   ],
   "source": [
    "lichess_data_clean"
   ]
  },
  {
   "cell_type": "code",
   "execution_count": 45,
   "metadata": {},
   "outputs": [
    {
     "data": {
      "text/plain": [
       "date                 datetime64[ns]\n",
       "white                        object\n",
       "black                        object\n",
       "result                     category\n",
       "result_num                    int64\n",
       "white_elo                     int64\n",
       "black_elo                     int64\n",
       "rating_difference             int64\n",
       "moves                        object\n",
       "number_of_moves               int64\n",
       "eco                          object\n",
       "opening                      object\n",
       "time_control                 object\n",
       "termination                  object\n",
       "dtype: object"
      ]
     },
     "execution_count": 45,
     "metadata": {},
     "output_type": "execute_result"
    }
   ],
   "source": [
    "lichess_data_clean.dtypes"
   ]
  },
  {
   "cell_type": "code",
   "execution_count": 46,
   "metadata": {},
   "outputs": [],
   "source": [
    "lichess_data_clean.to_csv(\"clean_data/lichess_data.csv\")"
   ]
  },
  {
   "cell_type": "code",
   "execution_count": 47,
   "metadata": {},
   "outputs": [],
   "source": [
    "del lichess_data\n",
    "del lichess_data_clean"
   ]
  },
  {
   "cell_type": "markdown",
   "metadata": {},
   "source": [
    "#### Cleaning chess.com games data:"
   ]
  },
  {
   "cell_type": "markdown",
   "metadata": {},
   "source": [
    "The overall process will be the same, so I will only describe the diffences with the handling of lichess data."
   ]
  },
  {
   "cell_type": "code",
   "execution_count": 48,
   "metadata": {},
   "outputs": [],
   "source": [
    "chesscom_data = pd.read_csv(\"data/chesscom_2024.csv\")"
   ]
  },
  {
   "cell_type": "code",
   "execution_count": 49,
   "metadata": {},
   "outputs": [
    {
     "data": {
      "text/plain": [
       "16.575931549072266"
      ]
     },
     "execution_count": 49,
     "metadata": {},
     "output_type": "execute_result"
    }
   ],
   "source": [
    "chesscom_data.memory_usage().sum()/(1024 * 1024)"
   ]
  },
  {
   "cell_type": "code",
   "execution_count": 50,
   "metadata": {},
   "outputs": [
    {
     "data": {
      "text/plain": [
       "(135789, 16)"
      ]
     },
     "execution_count": 50,
     "metadata": {},
     "output_type": "execute_result"
    }
   ],
   "source": [
    "chesscom_data.shape"
   ]
  },
  {
   "cell_type": "code",
   "execution_count": 51,
   "metadata": {},
   "outputs": [
    {
     "name": "stdout",
     "output_type": "stream",
     "text": [
      "<class 'pandas.core.frame.DataFrame'>\n",
      "RangeIndex: 135789 entries, 0 to 135788\n",
      "Data columns (total 16 columns):\n",
      " #   Column        Non-Null Count   Dtype  \n",
      "---  ------        --------------   -----  \n",
      " 0   event         135789 non-null  object \n",
      " 1   site          135789 non-null  object \n",
      " 2   date          135789 non-null  object \n",
      " 3   round         135789 non-null  int64  \n",
      " 4   white         135789 non-null  object \n",
      " 5   black         135789 non-null  object \n",
      " 6   result        135789 non-null  object \n",
      " 7   utc_date      0 non-null       float64\n",
      " 8   utc_time      0 non-null       float64\n",
      " 9   white_elo     135789 non-null  int64  \n",
      " 10  black_elo     135789 non-null  int64  \n",
      " 11  eco           0 non-null       float64\n",
      " 12  opening       0 non-null       float64\n",
      " 13  time_control  131398 non-null  object \n",
      " 14  termination   121722 non-null  object \n",
      " 15  moves         135098 non-null  object \n",
      "dtypes: float64(4), int64(3), object(9)\n",
      "memory usage: 16.6+ MB\n"
     ]
    }
   ],
   "source": [
    "chesscom_data.info()"
   ]
  },
  {
   "cell_type": "code",
   "execution_count": 52,
   "metadata": {},
   "outputs": [
    {
     "data": {
      "text/plain": [
       "Index(['event', 'site', 'date', 'round', 'white', 'black', 'result',\n",
       "       'utc_date', 'utc_time', 'white_elo', 'black_elo', 'eco', 'opening',\n",
       "       'time_control', 'termination', 'moves'],\n",
       "      dtype='object')"
      ]
     },
     "execution_count": 52,
     "metadata": {},
     "output_type": "execute_result"
    }
   ],
   "source": [
    "chesscom_data.columns"
   ]
  },
  {
   "cell_type": "markdown",
   "metadata": {},
   "source": [
    "Here I will also drop the columns:\"eco\" and \"opening\" since the source files contained no information for them and all the values in them are null. The column \"time_control\" will also be dropped because it contains the same (wrong) value in all rows."
   ]
  },
  {
   "cell_type": "code",
   "execution_count": 53,
   "metadata": {},
   "outputs": [],
   "source": [
    "chesscom_data_clean = chesscom_data.drop(columns = [\"event\", \"site\", \"round\", \"utc_date\", \"utc_time\", \"eco\", \"opening\", \"time_control\"])"
   ]
  },
  {
   "cell_type": "code",
   "execution_count": 54,
   "metadata": {},
   "outputs": [],
   "source": [
    "chesscom_data_clean[\"date\"] = pd.to_datetime(chesscom_data_clean[\"date\"]) "
   ]
  },
  {
   "cell_type": "code",
   "execution_count": 55,
   "metadata": {},
   "outputs": [
    {
     "data": {
      "text/plain": [
       "date           datetime64[ns]\n",
       "white                  object\n",
       "black                  object\n",
       "result                 object\n",
       "white_elo               int64\n",
       "black_elo               int64\n",
       "termination            object\n",
       "moves                  object\n",
       "dtype: object"
      ]
     },
     "execution_count": 55,
     "metadata": {},
     "output_type": "execute_result"
    }
   ],
   "source": [
    "chesscom_data_clean.dtypes"
   ]
  },
  {
   "cell_type": "code",
   "execution_count": 56,
   "metadata": {},
   "outputs": [],
   "source": [
    "chesscom_data_clean = chesscom_data_clean.drop_duplicates()"
   ]
  },
  {
   "cell_type": "code",
   "execution_count": 57,
   "metadata": {},
   "outputs": [
    {
     "data": {
      "text/plain": [
       "(135789, 8)"
      ]
     },
     "execution_count": 57,
     "metadata": {},
     "output_type": "execute_result"
    }
   ],
   "source": [
    "chesscom_data_clean.shape"
   ]
  },
  {
   "cell_type": "code",
   "execution_count": 58,
   "metadata": {},
   "outputs": [
    {
     "data": {
      "text/plain": [
       "691"
      ]
     },
     "execution_count": 58,
     "metadata": {},
     "output_type": "execute_result"
    }
   ],
   "source": [
    "chesscom_data_clean[\"moves\"].isna().sum()"
   ]
  },
  {
   "cell_type": "code",
   "execution_count": 59,
   "metadata": {},
   "outputs": [],
   "source": [
    "chesscom_data_clean = chesscom_data_clean.dropna(subset = [\"moves\"])"
   ]
  },
  {
   "cell_type": "code",
   "execution_count": 60,
   "metadata": {},
   "outputs": [
    {
     "data": {
      "text/plain": [
       "Index(['date', 'white', 'black', 'result', 'white_elo', 'black_elo',\n",
       "       'termination', 'moves'],\n",
       "      dtype='object')"
      ]
     },
     "execution_count": 60,
     "metadata": {},
     "output_type": "execute_result"
    }
   ],
   "source": [
    "chesscom_data_clean.columns"
   ]
  },
  {
   "cell_type": "code",
   "execution_count": 61,
   "metadata": {},
   "outputs": [],
   "source": [
    "chesscom_data_clean[\"rating_difference\"] = chesscom_data_clean[\"white_elo\"] - chesscom_data_clean[\"black_elo\"]"
   ]
  },
  {
   "cell_type": "code",
   "execution_count": 62,
   "metadata": {},
   "outputs": [
    {
     "data": {
      "text/plain": [
       "result\n",
       "1-0        65381\n",
       "0-1        57719\n",
       "1/2-1/2    11998\n",
       "Name: count, dtype: int64"
      ]
     },
     "execution_count": 62,
     "metadata": {},
     "output_type": "execute_result"
    }
   ],
   "source": [
    "chesscom_data_clean[\"result\"].value_counts()"
   ]
  },
  {
   "cell_type": "code",
   "execution_count": 63,
   "metadata": {},
   "outputs": [],
   "source": [
    "chesscom_data_clean[\"result_num\"] = chesscom_data_clean[\"result\"].apply(map_string_result_to_numerical_result)"
   ]
  },
  {
   "cell_type": "code",
   "execution_count": 64,
   "metadata": {},
   "outputs": [
    {
     "data": {
      "text/plain": [
       "result_num\n",
       " 1    65381\n",
       "-1    57719\n",
       " 0    11998\n",
       "Name: count, dtype: int64"
      ]
     },
     "execution_count": 64,
     "metadata": {},
     "output_type": "execute_result"
    }
   ],
   "source": [
    "chesscom_data_clean[\"result_num\"].value_counts()"
   ]
  },
  {
   "cell_type": "code",
   "execution_count": 65,
   "metadata": {},
   "outputs": [],
   "source": [
    "chesscom_data_clean[\"result\"] = chesscom_data_clean[\"result\"].astype(\"category\")"
   ]
  },
  {
   "cell_type": "code",
   "execution_count": 66,
   "metadata": {},
   "outputs": [],
   "source": [
    "chesscom_data_clean[\"number_of_moves\"] = chesscom_data_clean[\"moves\"].apply(count_moves)"
   ]
  },
  {
   "cell_type": "code",
   "execution_count": 67,
   "metadata": {},
   "outputs": [
    {
     "data": {
      "text/plain": [
       "['date',\n",
       " 'white',\n",
       " 'black',\n",
       " 'result',\n",
       " 'white_elo',\n",
       " 'black_elo',\n",
       " 'termination',\n",
       " 'moves',\n",
       " 'rating_difference',\n",
       " 'result_num',\n",
       " 'number_of_moves']"
      ]
     },
     "execution_count": 67,
     "metadata": {},
     "output_type": "execute_result"
    }
   ],
   "source": [
    "columns = list(chesscom_data_clean.columns.values)\n",
    "columns"
   ]
  },
  {
   "cell_type": "code",
   "execution_count": 68,
   "metadata": {},
   "outputs": [],
   "source": [
    "new_order = [\n",
    " 'date',\n",
    " 'white',\n",
    " 'black',\n",
    " 'result',\n",
    " 'result_num',\n",
    " 'white_elo',\n",
    " 'black_elo',\n",
    " 'rating_difference',\n",
    " 'moves',\n",
    " 'number_of_moves',\n",
    " 'termination',\n",
    " ]\n"
   ]
  },
  {
   "cell_type": "code",
   "execution_count": 69,
   "metadata": {},
   "outputs": [],
   "source": [
    "chesscom_data_clean = chesscom_data_clean[new_order]\n",
    "del columns\n",
    "del new_order"
   ]
  },
  {
   "cell_type": "code",
   "execution_count": 70,
   "metadata": {},
   "outputs": [
    {
     "data": {
      "text/plain": [
       "0"
      ]
     },
     "execution_count": 70,
     "metadata": {},
     "output_type": "execute_result"
    }
   ],
   "source": [
    "chesscom_data_clean[\"moves\"].apply(contains_engine_evaluations).sum()"
   ]
  },
  {
   "cell_type": "code",
   "execution_count": 71,
   "metadata": {},
   "outputs": [],
   "source": [
    "chesscom_data_clean = chesscom_data_clean.reset_index(drop = True)"
   ]
  },
  {
   "cell_type": "code",
   "execution_count": 72,
   "metadata": {},
   "outputs": [
    {
     "data": {
      "text/html": [
       "<div>\n",
       "<style scoped>\n",
       "    .dataframe tbody tr th:only-of-type {\n",
       "        vertical-align: middle;\n",
       "    }\n",
       "\n",
       "    .dataframe tbody tr th {\n",
       "        vertical-align: top;\n",
       "    }\n",
       "\n",
       "    .dataframe thead th {\n",
       "        text-align: right;\n",
       "    }\n",
       "</style>\n",
       "<table border=\"1\" class=\"dataframe\">\n",
       "  <thead>\n",
       "    <tr style=\"text-align: right;\">\n",
       "      <th></th>\n",
       "      <th>date</th>\n",
       "      <th>white</th>\n",
       "      <th>black</th>\n",
       "      <th>result</th>\n",
       "      <th>result_num</th>\n",
       "      <th>white_elo</th>\n",
       "      <th>black_elo</th>\n",
       "      <th>rating_difference</th>\n",
       "      <th>moves</th>\n",
       "      <th>number_of_moves</th>\n",
       "      <th>termination</th>\n",
       "    </tr>\n",
       "  </thead>\n",
       "  <tbody>\n",
       "    <tr>\n",
       "      <th>0</th>\n",
       "      <td>2024-01-02</td>\n",
       "      <td>Carlsen, Magnus</td>\n",
       "      <td>Santos Flores, Alberto</td>\n",
       "      <td>1-0</td>\n",
       "      <td>1</td>\n",
       "      <td>3366</td>\n",
       "      <td>2532</td>\n",
       "      <td>834</td>\n",
       "      <td>1. e4 e6 2. b3 d5 3. Bb2 dxe4 4. Nc3 Nf6 5. g4...</td>\n",
       "      <td>22</td>\n",
       "      <td>NaN</td>\n",
       "    </tr>\n",
       "    <tr>\n",
       "      <th>1</th>\n",
       "      <td>2024-01-02</td>\n",
       "      <td>Rangel, Daniel</td>\n",
       "      <td>Nakamura, Hikaru</td>\n",
       "      <td>0-1</td>\n",
       "      <td>-1</td>\n",
       "      <td>2531</td>\n",
       "      <td>3238</td>\n",
       "      <td>-707</td>\n",
       "      <td>1. c4 g6 2. g3 Bg7 3. Bg2 d6 4. Nc3 Nc6 5. e4 ...</td>\n",
       "      <td>37</td>\n",
       "      <td>NaN</td>\n",
       "    </tr>\n",
       "    <tr>\n",
       "      <th>2</th>\n",
       "      <td>2024-01-02</td>\n",
       "      <td>Nihal Sarin</td>\n",
       "      <td>Kambrath, Yannick</td>\n",
       "      <td>1-0</td>\n",
       "      <td>1</td>\n",
       "      <td>3203</td>\n",
       "      <td>2531</td>\n",
       "      <td>672</td>\n",
       "      <td>1. e4 e5 2. Nf3 Nc6 3. Bb5 a6 4. Ba4 Nf6 5. O-...</td>\n",
       "      <td>22</td>\n",
       "      <td>NaN</td>\n",
       "    </tr>\n",
       "    <tr>\n",
       "      <th>3</th>\n",
       "      <td>2024-01-02</td>\n",
       "      <td>Novikov, Evgenij</td>\n",
       "      <td>Vachier-Lagrave, Maxime</td>\n",
       "      <td>0-1</td>\n",
       "      <td>-1</td>\n",
       "      <td>2530</td>\n",
       "      <td>3187</td>\n",
       "      <td>-657</td>\n",
       "      <td>1. d4 Nf6 2. c4 e6 3. Nc3 d5 4. cxd5 exd5 5. B...</td>\n",
       "      <td>36</td>\n",
       "      <td>NaN</td>\n",
       "    </tr>\n",
       "    <tr>\n",
       "      <th>4</th>\n",
       "      <td>2024-01-02</td>\n",
       "      <td>Firouzja, Alireza</td>\n",
       "      <td>Rodriguez Fontecha, Marcos</td>\n",
       "      <td>1-0</td>\n",
       "      <td>1</td>\n",
       "      <td>3160</td>\n",
       "      <td>2530</td>\n",
       "      <td>630</td>\n",
       "      <td>1. d4 d5 2. Bg5 Bf5 3. e3 c6 4. Nd2 Nd7 5. Ngf...</td>\n",
       "      <td>44</td>\n",
       "      <td>NaN</td>\n",
       "    </tr>\n",
       "  </tbody>\n",
       "</table>\n",
       "</div>"
      ],
      "text/plain": [
       "        date              white                       black result  \\\n",
       "0 2024-01-02    Carlsen, Magnus      Santos Flores, Alberto    1-0   \n",
       "1 2024-01-02     Rangel, Daniel            Nakamura, Hikaru    0-1   \n",
       "2 2024-01-02        Nihal Sarin           Kambrath, Yannick    1-0   \n",
       "3 2024-01-02   Novikov, Evgenij     Vachier-Lagrave, Maxime    0-1   \n",
       "4 2024-01-02  Firouzja, Alireza  Rodriguez Fontecha, Marcos    1-0   \n",
       "\n",
       "   result_num  white_elo  black_elo  rating_difference  \\\n",
       "0           1       3366       2532                834   \n",
       "1          -1       2531       3238               -707   \n",
       "2           1       3203       2531                672   \n",
       "3          -1       2530       3187               -657   \n",
       "4           1       3160       2530                630   \n",
       "\n",
       "                                               moves  number_of_moves  \\\n",
       "0  1. e4 e6 2. b3 d5 3. Bb2 dxe4 4. Nc3 Nf6 5. g4...               22   \n",
       "1  1. c4 g6 2. g3 Bg7 3. Bg2 d6 4. Nc3 Nc6 5. e4 ...               37   \n",
       "2  1. e4 e5 2. Nf3 Nc6 3. Bb5 a6 4. Ba4 Nf6 5. O-...               22   \n",
       "3  1. d4 Nf6 2. c4 e6 3. Nc3 d5 4. cxd5 exd5 5. B...               36   \n",
       "4  1. d4 d5 2. Bg5 Bf5 3. e3 c6 4. Nd2 Nd7 5. Ngf...               44   \n",
       "\n",
       "  termination  \n",
       "0         NaN  \n",
       "1         NaN  \n",
       "2         NaN  \n",
       "3         NaN  \n",
       "4         NaN  "
      ]
     },
     "execution_count": 72,
     "metadata": {},
     "output_type": "execute_result"
    }
   ],
   "source": [
    "chesscom_data_clean.head(5)"
   ]
  },
  {
   "cell_type": "code",
   "execution_count": 73,
   "metadata": {},
   "outputs": [],
   "source": [
    "chesscom_data_clean.to_csv(\"clean_data/chesscom_data.csv\")\n",
    "del chesscom_data\n",
    "del chesscom_data_clean"
   ]
  },
  {
   "cell_type": "markdown",
   "metadata": {},
   "source": [
    "#### Cleaning engine games data:"
   ]
  },
  {
   "cell_type": "code",
   "execution_count": 74,
   "metadata": {},
   "outputs": [],
   "source": [
    "engine_data = pd.read_csv(\"data/engine_games.csv\")"
   ]
  },
  {
   "cell_type": "code",
   "execution_count": 75,
   "metadata": {},
   "outputs": [
    {
     "data": {
      "text/plain": [
       "(49637, 16)"
      ]
     },
     "execution_count": 75,
     "metadata": {},
     "output_type": "execute_result"
    }
   ],
   "source": [
    "engine_data.shape"
   ]
  },
  {
   "cell_type": "code",
   "execution_count": 76,
   "metadata": {},
   "outputs": [
    {
     "name": "stdout",
     "output_type": "stream",
     "text": [
      "<class 'pandas.core.frame.DataFrame'>\n",
      "RangeIndex: 49637 entries, 0 to 49636\n",
      "Data columns (total 16 columns):\n",
      " #   Column        Non-Null Count  Dtype  \n",
      "---  ------        --------------  -----  \n",
      " 0   event         49637 non-null  object \n",
      " 1   site          49637 non-null  object \n",
      " 2   date          49637 non-null  object \n",
      " 3   round         49637 non-null  float64\n",
      " 4   white         49637 non-null  object \n",
      " 5   black         49637 non-null  object \n",
      " 6   result        49637 non-null  object \n",
      " 7   utc_date      0 non-null      float64\n",
      " 8   utc_time      0 non-null      float64\n",
      " 9   white_elo     48280 non-null  float64\n",
      " 10  black_elo     48272 non-null  float64\n",
      " 11  eco           44424 non-null  object \n",
      " 12  opening       49565 non-null  object \n",
      " 13  time_control  43577 non-null  object \n",
      " 14  termination   37110 non-null  object \n",
      " 15  moves         49623 non-null  object \n",
      "dtypes: float64(5), object(11)\n",
      "memory usage: 6.1+ MB\n"
     ]
    }
   ],
   "source": [
    "engine_data.info()"
   ]
  },
  {
   "cell_type": "code",
   "execution_count": 77,
   "metadata": {},
   "outputs": [
    {
     "data": {
      "text/plain": [
       "Index(['event', 'site', 'date', 'round', 'white', 'black', 'result',\n",
       "       'utc_date', 'utc_time', 'white_elo', 'black_elo', 'eco', 'opening',\n",
       "       'time_control', 'termination', 'moves'],\n",
       "      dtype='object')"
      ]
     },
     "execution_count": 77,
     "metadata": {},
     "output_type": "execute_result"
    }
   ],
   "source": [
    "engine_data.columns"
   ]
  },
  {
   "cell_type": "code",
   "execution_count": 78,
   "metadata": {},
   "outputs": [
    {
     "data": {
      "text/plain": [
       "5213"
      ]
     },
     "execution_count": 78,
     "metadata": {},
     "output_type": "execute_result"
    }
   ],
   "source": [
    "engine_data[\"eco\"].isna().sum()"
   ]
  },
  {
   "cell_type": "code",
   "execution_count": 79,
   "metadata": {},
   "outputs": [
    {
     "data": {
      "text/plain": [
       "72"
      ]
     },
     "execution_count": 79,
     "metadata": {},
     "output_type": "execute_result"
    }
   ],
   "source": [
    "engine_data[\"opening\"].isna().sum()"
   ]
  },
  {
   "cell_type": "code",
   "execution_count": 80,
   "metadata": {},
   "outputs": [
    {
     "data": {
      "text/plain": [
       "6060"
      ]
     },
     "execution_count": 80,
     "metadata": {},
     "output_type": "execute_result"
    }
   ],
   "source": [
    "engine_data[\"time_control\"].isna().sum()"
   ]
  },
  {
   "cell_type": "code",
   "execution_count": 81,
   "metadata": {},
   "outputs": [],
   "source": [
    "engine_data_clean = engine_data.drop(columns = [\"event\", \"site\", \"round\", \"utc_date\", \"utc_time\"]) "
   ]
  },
  {
   "cell_type": "code",
   "execution_count": 82,
   "metadata": {},
   "outputs": [],
   "source": [
    "engine_data_clean[\"date\"] = pd.to_datetime(engine_data[\"date\"])"
   ]
  },
  {
   "cell_type": "code",
   "execution_count": 83,
   "metadata": {},
   "outputs": [
    {
     "data": {
      "text/plain": [
       "date            datetime64[ns]\n",
       "white                   object\n",
       "black                   object\n",
       "result                  object\n",
       "white_elo              float64\n",
       "black_elo              float64\n",
       "eco                     object\n",
       "opening                 object\n",
       "time_control            object\n",
       "termination             object\n",
       "moves                   object\n",
       "dtype: object"
      ]
     },
     "execution_count": 83,
     "metadata": {},
     "output_type": "execute_result"
    }
   ],
   "source": [
    "engine_data_clean.dtypes"
   ]
  },
  {
   "cell_type": "code",
   "execution_count": 84,
   "metadata": {},
   "outputs": [
    {
     "data": {
      "text/plain": [
       "(49637, 11)"
      ]
     },
     "execution_count": 84,
     "metadata": {},
     "output_type": "execute_result"
    }
   ],
   "source": [
    "engine_data_clean.shape"
   ]
  },
  {
   "cell_type": "code",
   "execution_count": 85,
   "metadata": {},
   "outputs": [],
   "source": [
    "engine_data_clean = engine_data_clean.drop_duplicates()"
   ]
  },
  {
   "cell_type": "code",
   "execution_count": 86,
   "metadata": {},
   "outputs": [
    {
     "data": {
      "text/plain": [
       "(49555, 11)"
      ]
     },
     "execution_count": 86,
     "metadata": {},
     "output_type": "execute_result"
    }
   ],
   "source": [
    "engine_data_clean.shape"
   ]
  },
  {
   "cell_type": "code",
   "execution_count": 87,
   "metadata": {},
   "outputs": [
    {
     "data": {
      "text/plain": [
       "8"
      ]
     },
     "execution_count": 87,
     "metadata": {},
     "output_type": "execute_result"
    }
   ],
   "source": [
    "engine_data_clean[\"moves\"].isna().sum()"
   ]
  },
  {
   "cell_type": "code",
   "execution_count": 88,
   "metadata": {},
   "outputs": [],
   "source": [
    "engine_data_clean = engine_data_clean.dropna(subset = [\"moves\"])"
   ]
  },
  {
   "cell_type": "code",
   "execution_count": 89,
   "metadata": {},
   "outputs": [
    {
     "data": {
      "text/plain": [
       "1357"
      ]
     },
     "execution_count": 89,
     "metadata": {},
     "output_type": "execute_result"
    }
   ],
   "source": [
    "engine_data_clean[\"white_elo\"].isna().sum()"
   ]
  },
  {
   "cell_type": "code",
   "execution_count": 90,
   "metadata": {},
   "outputs": [
    {
     "data": {
      "text/plain": [
       "1365"
      ]
     },
     "execution_count": 90,
     "metadata": {},
     "output_type": "execute_result"
    }
   ],
   "source": [
    "engine_data_clean[\"black_elo\"].isna().sum()"
   ]
  },
  {
   "cell_type": "markdown",
   "metadata": {},
   "source": [
    "In this dataset, contrary to the previous ones there are some missing values for \"white_elo\" and \"black_elo\". I will drop the corresponding records."
   ]
  },
  {
   "cell_type": "code",
   "execution_count": 91,
   "metadata": {},
   "outputs": [],
   "source": [
    "engine_data_clean = engine_data_clean.dropna(subset = [\"white_elo\"])"
   ]
  },
  {
   "cell_type": "code",
   "execution_count": 92,
   "metadata": {},
   "outputs": [],
   "source": [
    "engine_data_clean = engine_data_clean.dropna(subset = [\"black_elo\"])"
   ]
  },
  {
   "cell_type": "code",
   "execution_count": 93,
   "metadata": {},
   "outputs": [
    {
     "data": {
      "text/plain": [
       "(48171, 11)"
      ]
     },
     "execution_count": 93,
     "metadata": {},
     "output_type": "execute_result"
    }
   ],
   "source": [
    "engine_data_clean.shape"
   ]
  },
  {
   "cell_type": "code",
   "execution_count": 94,
   "metadata": {},
   "outputs": [],
   "source": [
    "engine_data_clean[\"rating_difference\"] = engine_data_clean[\"white_elo\"] -  engine_data_clean[\"black_elo\"]"
   ]
  },
  {
   "cell_type": "code",
   "execution_count": 95,
   "metadata": {},
   "outputs": [
    {
     "data": {
      "text/html": [
       "<div>\n",
       "<style scoped>\n",
       "    .dataframe tbody tr th:only-of-type {\n",
       "        vertical-align: middle;\n",
       "    }\n",
       "\n",
       "    .dataframe tbody tr th {\n",
       "        vertical-align: top;\n",
       "    }\n",
       "\n",
       "    .dataframe thead th {\n",
       "        text-align: right;\n",
       "    }\n",
       "</style>\n",
       "<table border=\"1\" class=\"dataframe\">\n",
       "  <thead>\n",
       "    <tr style=\"text-align: right;\">\n",
       "      <th></th>\n",
       "      <th>date</th>\n",
       "      <th>white</th>\n",
       "      <th>black</th>\n",
       "      <th>result</th>\n",
       "      <th>white_elo</th>\n",
       "      <th>black_elo</th>\n",
       "      <th>eco</th>\n",
       "      <th>opening</th>\n",
       "      <th>time_control</th>\n",
       "      <th>termination</th>\n",
       "      <th>moves</th>\n",
       "      <th>rating_difference</th>\n",
       "    </tr>\n",
       "  </thead>\n",
       "  <tbody>\n",
       "    <tr>\n",
       "      <th>796</th>\n",
       "      <td>2011-04-29</td>\n",
       "      <td>Greko 8.0</td>\n",
       "      <td>Zappa Mexico II</td>\n",
       "      <td>1/2-1/2</td>\n",
       "      <td>2501.0</td>\n",
       "      <td>2899.0</td>\n",
       "      <td>A09</td>\n",
       "      <td>Reti opening</td>\n",
       "      <td>5400+30</td>\n",
       "      <td>GUI adjudication</td>\n",
       "      <td>1. Nf3 d5 2. c4 c6 3. e3 Nf6 4. Nc3 a6 5. Be2 ...</td>\n",
       "      <td>-398.0</td>\n",
       "    </tr>\n",
       "    <tr>\n",
       "      <th>797</th>\n",
       "      <td>2011-04-29</td>\n",
       "      <td>Junior 12.5</td>\n",
       "      <td>Cuckoo 1.1</td>\n",
       "      <td>1-0</td>\n",
       "      <td>2946.0</td>\n",
       "      <td>2540.0</td>\n",
       "      <td>E14</td>\n",
       "      <td>Queen's Indian</td>\n",
       "      <td>5400+30</td>\n",
       "      <td>GUI adjudication</td>\n",
       "      <td>1. d4 Nf6 2. c4 e6 3. Nf3 b6 4. e3 Bb7 5. Bd3 ...</td>\n",
       "      <td>406.0</td>\n",
       "    </tr>\n",
       "    <tr>\n",
       "      <th>798</th>\n",
       "      <td>2011-04-30</td>\n",
       "      <td>Gaviota 0.83</td>\n",
       "      <td>Spark 1.0</td>\n",
       "      <td>0-1</td>\n",
       "      <td>2544.0</td>\n",
       "      <td>2953.0</td>\n",
       "      <td>C80</td>\n",
       "      <td>Ruy Lopez</td>\n",
       "      <td>5400+30</td>\n",
       "      <td>GUI adjudication</td>\n",
       "      <td>1. e4 e5 2. Nf3 Nc6 3. Bb5 a6 4. Ba4 Nf6 5. O-...</td>\n",
       "      <td>-409.0</td>\n",
       "    </tr>\n",
       "    <tr>\n",
       "      <th>799</th>\n",
       "      <td>2011-04-30</td>\n",
       "      <td>Hiarcs 13.2</td>\n",
       "      <td>Danasah 4.6</td>\n",
       "      <td>1-0</td>\n",
       "      <td>2959.0</td>\n",
       "      <td>2556.0</td>\n",
       "      <td>C42</td>\n",
       "      <td>Petrov's defence</td>\n",
       "      <td>5400+30</td>\n",
       "      <td>GUI adjudication</td>\n",
       "      <td>1. e4 e5 2. Nf3 Nf6 3. Nxe5 d6 4. Nf3 Nxe4 5. ...</td>\n",
       "      <td>403.0</td>\n",
       "    </tr>\n",
       "    <tr>\n",
       "      <th>800</th>\n",
       "      <td>2011-04-30</td>\n",
       "      <td>Francesca 0.18</td>\n",
       "      <td>Protector 1.4</td>\n",
       "      <td>0-1</td>\n",
       "      <td>2572.0</td>\n",
       "      <td>2959.0</td>\n",
       "      <td>D27</td>\n",
       "      <td>QGA</td>\n",
       "      <td>5400+30</td>\n",
       "      <td>GUI adjudication</td>\n",
       "      <td>1. d4 d5 2. c4 c6 3. Nf3 Nf6 4. e3 e6 5. Bd3 d...</td>\n",
       "      <td>-387.0</td>\n",
       "    </tr>\n",
       "  </tbody>\n",
       "</table>\n",
       "</div>"
      ],
      "text/plain": [
       "          date           white            black   result  white_elo  \\\n",
       "796 2011-04-29       Greko 8.0  Zappa Mexico II  1/2-1/2     2501.0   \n",
       "797 2011-04-29     Junior 12.5       Cuckoo 1.1      1-0     2946.0   \n",
       "798 2011-04-30    Gaviota 0.83        Spark 1.0      0-1     2544.0   \n",
       "799 2011-04-30     Hiarcs 13.2      Danasah 4.6      1-0     2959.0   \n",
       "800 2011-04-30  Francesca 0.18    Protector 1.4      0-1     2572.0   \n",
       "\n",
       "     black_elo  eco           opening time_control       termination  \\\n",
       "796     2899.0  A09      Reti opening      5400+30  GUI adjudication   \n",
       "797     2540.0  E14    Queen's Indian      5400+30  GUI adjudication   \n",
       "798     2953.0  C80         Ruy Lopez      5400+30  GUI adjudication   \n",
       "799     2556.0  C42  Petrov's defence      5400+30  GUI adjudication   \n",
       "800     2959.0  D27               QGA      5400+30  GUI adjudication   \n",
       "\n",
       "                                                 moves  rating_difference  \n",
       "796  1. Nf3 d5 2. c4 c6 3. e3 Nf6 4. Nc3 a6 5. Be2 ...             -398.0  \n",
       "797  1. d4 Nf6 2. c4 e6 3. Nf3 b6 4. e3 Bb7 5. Bd3 ...              406.0  \n",
       "798  1. e4 e5 2. Nf3 Nc6 3. Bb5 a6 4. Ba4 Nf6 5. O-...             -409.0  \n",
       "799  1. e4 e5 2. Nf3 Nf6 3. Nxe5 d6 4. Nf3 Nxe4 5. ...              403.0  \n",
       "800  1. d4 d5 2. c4 c6 3. Nf3 Nf6 4. e3 e6 5. Bd3 d...             -387.0  "
      ]
     },
     "execution_count": 95,
     "metadata": {},
     "output_type": "execute_result"
    }
   ],
   "source": [
    "engine_data_clean.head(5)"
   ]
  },
  {
   "cell_type": "code",
   "execution_count": 96,
   "metadata": {},
   "outputs": [
    {
     "data": {
      "text/plain": [
       "result\n",
       "1/2-1/2    26167\n",
       "1-0        15894\n",
       "0-1         6101\n",
       "*              9\n",
       "Name: count, dtype: int64"
      ]
     },
     "execution_count": 96,
     "metadata": {},
     "output_type": "execute_result"
    }
   ],
   "source": [
    "engine_data_clean[\"result\"].value_counts()"
   ]
  },
  {
   "cell_type": "markdown",
   "metadata": {},
   "source": [
    "Remove unexpected game outcomes:"
   ]
  },
  {
   "cell_type": "code",
   "execution_count": 97,
   "metadata": {},
   "outputs": [],
   "source": [
    "engine_data_clean = engine_data_clean[engine_data_clean[\"result\"] != \"*\"] "
   ]
  },
  {
   "cell_type": "code",
   "execution_count": 98,
   "metadata": {},
   "outputs": [
    {
     "data": {
      "text/plain": [
       "result\n",
       "1/2-1/2    26167\n",
       "1-0        15894\n",
       "0-1         6101\n",
       "Name: count, dtype: int64"
      ]
     },
     "execution_count": 98,
     "metadata": {},
     "output_type": "execute_result"
    }
   ],
   "source": [
    "engine_data_clean[\"result\"].value_counts()"
   ]
  },
  {
   "cell_type": "code",
   "execution_count": 99,
   "metadata": {},
   "outputs": [],
   "source": [
    "engine_data_clean[\"result_num\"] = engine_data_clean[\"result\"].apply(map_string_result_to_numerical_result)"
   ]
  },
  {
   "cell_type": "code",
   "execution_count": 100,
   "metadata": {},
   "outputs": [
    {
     "data": {
      "text/plain": [
       "result_num\n",
       " 0    26167\n",
       " 1    15894\n",
       "-1     6101\n",
       "Name: count, dtype: int64"
      ]
     },
     "execution_count": 100,
     "metadata": {},
     "output_type": "execute_result"
    }
   ],
   "source": [
    "engine_data_clean[\"result_num\"].value_counts()"
   ]
  },
  {
   "cell_type": "code",
   "execution_count": 101,
   "metadata": {},
   "outputs": [],
   "source": [
    "engine_data_clean[\"result\"] = engine_data_clean[\"result\"].astype(\"category\")"
   ]
  },
  {
   "cell_type": "code",
   "execution_count": 102,
   "metadata": {},
   "outputs": [
    {
     "data": {
      "text/plain": [
       "date                 datetime64[ns]\n",
       "white                        object\n",
       "black                        object\n",
       "result                     category\n",
       "white_elo                   float64\n",
       "black_elo                   float64\n",
       "eco                          object\n",
       "opening                      object\n",
       "time_control                 object\n",
       "termination                  object\n",
       "moves                        object\n",
       "rating_difference           float64\n",
       "result_num                    int64\n",
       "dtype: object"
      ]
     },
     "execution_count": 102,
     "metadata": {},
     "output_type": "execute_result"
    }
   ],
   "source": [
    "engine_data_clean.dtypes"
   ]
  },
  {
   "cell_type": "code",
   "execution_count": 103,
   "metadata": {},
   "outputs": [
    {
     "data": {
      "text/plain": [
       "white_elo\n",
       "3601.0    841\n",
       "3532.0    499\n",
       "3588.0    397\n",
       "3589.0    362\n",
       "3662.0    342\n",
       "         ... \n",
       "3007.0      1\n",
       "3664.0      1\n",
       "2932.0      1\n",
       "3006.0      1\n",
       "2501.0      1\n",
       "Name: count, Length: 1209, dtype: int64"
      ]
     },
     "execution_count": 103,
     "metadata": {},
     "output_type": "execute_result"
    }
   ],
   "source": [
    "engine_data_clean[\"white_elo\"].value_counts()"
   ]
  },
  {
   "cell_type": "markdown",
   "metadata": {},
   "source": [
    "Function to check if value is true float or can be safely converted to int:"
   ]
  },
  {
   "cell_type": "code",
   "execution_count": 104,
   "metadata": {},
   "outputs": [],
   "source": [
    "def has_nonzero_decimal(value):\n",
    "    return isinstance(value, float) and (value != int(value))"
   ]
  },
  {
   "cell_type": "code",
   "execution_count": 105,
   "metadata": {},
   "outputs": [
    {
     "data": {
      "text/plain": [
       "0"
      ]
     },
     "execution_count": 105,
     "metadata": {},
     "output_type": "execute_result"
    }
   ],
   "source": [
    "engine_data_clean[\"white_elo\"].apply(has_nonzero_decimal).sum()"
   ]
  },
  {
   "cell_type": "code",
   "execution_count": 106,
   "metadata": {},
   "outputs": [
    {
     "data": {
      "text/plain": [
       "0"
      ]
     },
     "execution_count": 106,
     "metadata": {},
     "output_type": "execute_result"
    }
   ],
   "source": [
    "engine_data_clean[\"black_elo\"].apply(has_nonzero_decimal).sum()"
   ]
  },
  {
   "cell_type": "code",
   "execution_count": 107,
   "metadata": {},
   "outputs": [
    {
     "data": {
      "text/plain": [
       "0"
      ]
     },
     "execution_count": 107,
     "metadata": {},
     "output_type": "execute_result"
    }
   ],
   "source": [
    "engine_data_clean[\"rating_difference\"].apply(has_nonzero_decimal).sum()"
   ]
  },
  {
   "cell_type": "markdown",
   "metadata": {},
   "source": [
    "There are no nonzero values after the decimal point so the columns can be safely converted to int. This is expected because generally listed elo rating is rounded to whole numbers."
   ]
  },
  {
   "cell_type": "code",
   "execution_count": 108,
   "metadata": {},
   "outputs": [],
   "source": [
    "engine_data_clean[\"white_elo\"] = engine_data_clean[\"white_elo\"].astype(int)"
   ]
  },
  {
   "cell_type": "code",
   "execution_count": 109,
   "metadata": {},
   "outputs": [],
   "source": [
    "engine_data_clean[\"black_elo\"] = engine_data_clean[\"black_elo\"].astype(int)"
   ]
  },
  {
   "cell_type": "code",
   "execution_count": 110,
   "metadata": {},
   "outputs": [],
   "source": [
    "engine_data_clean[\"rating_difference\"] = engine_data_clean[\"rating_difference\"].astype(int)"
   ]
  },
  {
   "cell_type": "code",
   "execution_count": 111,
   "metadata": {},
   "outputs": [],
   "source": [
    "engine_data_clean[\"result_num\"] = engine_data_clean[\"result_num\"].astype(int)"
   ]
  },
  {
   "cell_type": "code",
   "execution_count": 112,
   "metadata": {},
   "outputs": [
    {
     "data": {
      "text/plain": [
       "date                 datetime64[ns]\n",
       "white                        object\n",
       "black                        object\n",
       "result                     category\n",
       "white_elo                     int32\n",
       "black_elo                     int32\n",
       "eco                          object\n",
       "opening                      object\n",
       "time_control                 object\n",
       "termination                  object\n",
       "moves                        object\n",
       "rating_difference             int32\n",
       "result_num                    int32\n",
       "dtype: object"
      ]
     },
     "execution_count": 112,
     "metadata": {},
     "output_type": "execute_result"
    }
   ],
   "source": [
    "engine_data_clean.dtypes"
   ]
  },
  {
   "cell_type": "code",
   "execution_count": 113,
   "metadata": {},
   "outputs": [],
   "source": [
    "engine_data_clean[\"number_of_moves\"] = engine_data_clean[\"moves\"].apply(count_moves)"
   ]
  },
  {
   "cell_type": "code",
   "execution_count": 114,
   "metadata": {},
   "outputs": [
    {
     "data": {
      "text/plain": [
       "['date',\n",
       " 'white',\n",
       " 'black',\n",
       " 'result',\n",
       " 'white_elo',\n",
       " 'black_elo',\n",
       " 'eco',\n",
       " 'opening',\n",
       " 'time_control',\n",
       " 'termination',\n",
       " 'moves',\n",
       " 'rating_difference',\n",
       " 'result_num',\n",
       " 'number_of_moves']"
      ]
     },
     "execution_count": 114,
     "metadata": {},
     "output_type": "execute_result"
    }
   ],
   "source": [
    "columns = list(engine_data_clean.columns.values)\n",
    "columns"
   ]
  },
  {
   "cell_type": "code",
   "execution_count": 115,
   "metadata": {},
   "outputs": [],
   "source": [
    "new_order = [\n",
    " 'date',\n",
    " 'white',\n",
    " 'black',\n",
    " 'result',\n",
    " 'result_num',\n",
    " 'white_elo',\n",
    " 'black_elo',\n",
    " 'rating_difference',\n",
    " 'moves',\n",
    " 'number_of_moves',\n",
    " 'eco',\n",
    " 'opening',\n",
    " 'time_control',\n",
    " 'termination',\n",
    "]"
   ]
  },
  {
   "cell_type": "code",
   "execution_count": 116,
   "metadata": {},
   "outputs": [],
   "source": [
    "engine_data_clean = engine_data_clean[new_order]\n",
    "del columns\n",
    "del new_order"
   ]
  },
  {
   "cell_type": "code",
   "execution_count": 117,
   "metadata": {},
   "outputs": [
    {
     "data": {
      "text/html": [
       "<div>\n",
       "<style scoped>\n",
       "    .dataframe tbody tr th:only-of-type {\n",
       "        vertical-align: middle;\n",
       "    }\n",
       "\n",
       "    .dataframe tbody tr th {\n",
       "        vertical-align: top;\n",
       "    }\n",
       "\n",
       "    .dataframe thead th {\n",
       "        text-align: right;\n",
       "    }\n",
       "</style>\n",
       "<table border=\"1\" class=\"dataframe\">\n",
       "  <thead>\n",
       "    <tr style=\"text-align: right;\">\n",
       "      <th></th>\n",
       "      <th>date</th>\n",
       "      <th>white</th>\n",
       "      <th>black</th>\n",
       "      <th>result</th>\n",
       "      <th>result_num</th>\n",
       "      <th>white_elo</th>\n",
       "      <th>black_elo</th>\n",
       "      <th>rating_difference</th>\n",
       "      <th>moves</th>\n",
       "      <th>number_of_moves</th>\n",
       "      <th>eco</th>\n",
       "      <th>opening</th>\n",
       "      <th>time_control</th>\n",
       "      <th>termination</th>\n",
       "    </tr>\n",
       "  </thead>\n",
       "  <tbody>\n",
       "    <tr>\n",
       "      <th>796</th>\n",
       "      <td>2011-04-29</td>\n",
       "      <td>Greko 8.0</td>\n",
       "      <td>Zappa Mexico II</td>\n",
       "      <td>1/2-1/2</td>\n",
       "      <td>0</td>\n",
       "      <td>2501</td>\n",
       "      <td>2899</td>\n",
       "      <td>-398</td>\n",
       "      <td>1. Nf3 d5 2. c4 c6 3. e3 Nf6 4. Nc3 a6 5. Be2 ...</td>\n",
       "      <td>100</td>\n",
       "      <td>A09</td>\n",
       "      <td>Reti opening</td>\n",
       "      <td>5400+30</td>\n",
       "      <td>GUI adjudication</td>\n",
       "    </tr>\n",
       "    <tr>\n",
       "      <th>797</th>\n",
       "      <td>2011-04-29</td>\n",
       "      <td>Junior 12.5</td>\n",
       "      <td>Cuckoo 1.1</td>\n",
       "      <td>1-0</td>\n",
       "      <td>1</td>\n",
       "      <td>2946</td>\n",
       "      <td>2540</td>\n",
       "      <td>406</td>\n",
       "      <td>1. d4 Nf6 2. c4 e6 3. Nf3 b6 4. e3 Bb7 5. Bd3 ...</td>\n",
       "      <td>43</td>\n",
       "      <td>E14</td>\n",
       "      <td>Queen's Indian</td>\n",
       "      <td>5400+30</td>\n",
       "      <td>GUI adjudication</td>\n",
       "    </tr>\n",
       "    <tr>\n",
       "      <th>798</th>\n",
       "      <td>2011-04-30</td>\n",
       "      <td>Gaviota 0.83</td>\n",
       "      <td>Spark 1.0</td>\n",
       "      <td>0-1</td>\n",
       "      <td>-1</td>\n",
       "      <td>2544</td>\n",
       "      <td>2953</td>\n",
       "      <td>-409</td>\n",
       "      <td>1. e4 e5 2. Nf3 Nc6 3. Bb5 a6 4. Ba4 Nf6 5. O-...</td>\n",
       "      <td>61</td>\n",
       "      <td>C80</td>\n",
       "      <td>Ruy Lopez</td>\n",
       "      <td>5400+30</td>\n",
       "      <td>GUI adjudication</td>\n",
       "    </tr>\n",
       "    <tr>\n",
       "      <th>799</th>\n",
       "      <td>2011-04-30</td>\n",
       "      <td>Hiarcs 13.2</td>\n",
       "      <td>Danasah 4.6</td>\n",
       "      <td>1-0</td>\n",
       "      <td>1</td>\n",
       "      <td>2959</td>\n",
       "      <td>2556</td>\n",
       "      <td>403</td>\n",
       "      <td>1. e4 e5 2. Nf3 Nf6 3. Nxe5 d6 4. Nf3 Nxe4 5. ...</td>\n",
       "      <td>31</td>\n",
       "      <td>C42</td>\n",
       "      <td>Petrov's defence</td>\n",
       "      <td>5400+30</td>\n",
       "      <td>GUI adjudication</td>\n",
       "    </tr>\n",
       "    <tr>\n",
       "      <th>800</th>\n",
       "      <td>2011-04-30</td>\n",
       "      <td>Francesca 0.18</td>\n",
       "      <td>Protector 1.4</td>\n",
       "      <td>0-1</td>\n",
       "      <td>-1</td>\n",
       "      <td>2572</td>\n",
       "      <td>2959</td>\n",
       "      <td>-387</td>\n",
       "      <td>1. d4 d5 2. c4 c6 3. Nf3 Nf6 4. e3 e6 5. Bd3 d...</td>\n",
       "      <td>67</td>\n",
       "      <td>D27</td>\n",
       "      <td>QGA</td>\n",
       "      <td>5400+30</td>\n",
       "      <td>GUI adjudication</td>\n",
       "    </tr>\n",
       "  </tbody>\n",
       "</table>\n",
       "</div>"
      ],
      "text/plain": [
       "          date           white            black   result  result_num  \\\n",
       "796 2011-04-29       Greko 8.0  Zappa Mexico II  1/2-1/2           0   \n",
       "797 2011-04-29     Junior 12.5       Cuckoo 1.1      1-0           1   \n",
       "798 2011-04-30    Gaviota 0.83        Spark 1.0      0-1          -1   \n",
       "799 2011-04-30     Hiarcs 13.2      Danasah 4.6      1-0           1   \n",
       "800 2011-04-30  Francesca 0.18    Protector 1.4      0-1          -1   \n",
       "\n",
       "     white_elo  black_elo  rating_difference  \\\n",
       "796       2501       2899               -398   \n",
       "797       2946       2540                406   \n",
       "798       2544       2953               -409   \n",
       "799       2959       2556                403   \n",
       "800       2572       2959               -387   \n",
       "\n",
       "                                                 moves  number_of_moves  eco  \\\n",
       "796  1. Nf3 d5 2. c4 c6 3. e3 Nf6 4. Nc3 a6 5. Be2 ...              100  A09   \n",
       "797  1. d4 Nf6 2. c4 e6 3. Nf3 b6 4. e3 Bb7 5. Bd3 ...               43  E14   \n",
       "798  1. e4 e5 2. Nf3 Nc6 3. Bb5 a6 4. Ba4 Nf6 5. O-...               61  C80   \n",
       "799  1. e4 e5 2. Nf3 Nf6 3. Nxe5 d6 4. Nf3 Nxe4 5. ...               31  C42   \n",
       "800  1. d4 d5 2. c4 c6 3. Nf3 Nf6 4. e3 e6 5. Bd3 d...               67  D27   \n",
       "\n",
       "              opening time_control       termination  \n",
       "796      Reti opening      5400+30  GUI adjudication  \n",
       "797    Queen's Indian      5400+30  GUI adjudication  \n",
       "798         Ruy Lopez      5400+30  GUI adjudication  \n",
       "799  Petrov's defence      5400+30  GUI adjudication  \n",
       "800               QGA      5400+30  GUI adjudication  "
      ]
     },
     "execution_count": 117,
     "metadata": {},
     "output_type": "execute_result"
    }
   ],
   "source": [
    "engine_data_clean.head(5)"
   ]
  },
  {
   "cell_type": "code",
   "execution_count": 118,
   "metadata": {},
   "outputs": [
    {
     "data": {
      "text/plain": [
       "0"
      ]
     },
     "execution_count": 118,
     "metadata": {},
     "output_type": "execute_result"
    }
   ],
   "source": [
    "engine_data_clean[\"moves\"].apply(contains_engine_evaluations).sum()"
   ]
  },
  {
   "cell_type": "code",
   "execution_count": 119,
   "metadata": {},
   "outputs": [],
   "source": [
    "engine_data_clean = engine_data_clean.reset_index(drop = True)"
   ]
  },
  {
   "cell_type": "code",
   "execution_count": 120,
   "metadata": {},
   "outputs": [],
   "source": [
    "engine_data_clean.to_csv(\"clean_data/engine_data.csv\")\n",
    "del engine_data_clean\n",
    "del engine_data"
   ]
  }
 ],
 "metadata": {
  "kernelspec": {
   "display_name": "base",
   "language": "python",
   "name": "python3"
  },
  "language_info": {
   "codemirror_mode": {
    "name": "ipython",
    "version": 3
   },
   "file_extension": ".py",
   "mimetype": "text/x-python",
   "name": "python",
   "nbconvert_exporter": "python",
   "pygments_lexer": "ipython3",
   "version": "3.11.9"
  }
 },
 "nbformat": 4,
 "nbformat_minor": 2
}
